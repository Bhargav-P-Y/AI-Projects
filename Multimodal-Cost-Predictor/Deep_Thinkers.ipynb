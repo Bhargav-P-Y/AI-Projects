{
 "cells": [
  {
   "cell_type": "markdown",
   "id": "057442ca-935d-4d52-b90c-f526d3b2d76a",
   "metadata": {},
   "source": [
    "# Installing the required packages"
   ]
  },
  {
   "cell_type": "code",
   "execution_count": 1,
   "id": "83e69bbe-5abc-4886-870a-d54016e3758e",
   "metadata": {},
   "outputs": [],
   "source": [
    "%%capture output\n",
    "# For data handling\n",
    "%pip install numpy pandas\n",
    "# For ML tasks, such as regression\n",
    "%pip install scikit-learn\n",
    "# For efficient modelling\n",
    "%pip install lightgbm xgboost\n",
    "# Deep Learning (PyTorch)\n",
    "%pip install torch torchvision\n",
    "# Advanced NLP\n",
    "%pip install transformers sentence-transformers\n",
    "# Image utilities\n",
    "%pip install Pillow requests tqdm\n"
   ]
  },
  {
   "cell_type": "code",
   "execution_count": 3,
   "id": "cdbceba4-409f-4935-b973-7d50235e8f6e",
   "metadata": {},
   "outputs": [
    {
     "name": "stdout",
     "output_type": "stream",
     "text": [
      "All packages installed successfully.\n"
     ]
    }
   ],
   "source": [
    "# For verification purposes\n",
    "if \"ERROR:\" in output.stderr or \"Failed\" in output.stdout:\n",
    "    print(\"One or more packages failed to install\")\n",
    "else:\n",
    "    print(\"All packages installed successfully.\")"
   ]
  },
  {
   "cell_type": "markdown",
   "id": "f60d3c0e-9f0e-47ef-a63e-595c66aee35c",
   "metadata": {},
   "source": [
    "# Importing the required libraries"
   ]
  },
  {
   "cell_type": "code",
   "execution_count": 5,
   "id": "b8c8ff03-c77d-48cc-86ea-ab65dc33bf38",
   "metadata": {},
   "outputs": [
    {
     "name": "stdout",
     "output_type": "stream",
     "text": [
      "New Current Working Directory set to: D:\\Jupyter_Projects\\ML_Challenge_Data\\68e8d1d70b66d_student_resource\\student_resource\n"
     ]
    }
   ],
   "source": [
    "# CORE DATA HANDLING & UTILITIES\n",
    "\n",
    "import pandas as pd\n",
    "import numpy as np\n",
    "import os\n",
    "import re\n",
    "from tqdm.notebook import tqdm # For tracking slow processes like downloads/feature extraction\n",
    "\n",
    "correct_path = r\"D:\\Jupyter_Projects\\ML_Challenge_Data\\68e8d1d70b66d_student_resource\\student_resource\" \n",
    "os.chdir(correct_path)\n",
    "print(f\"New Current Working Directory set to: {os.getcwd()}\")\n",
    "# FEATURE ENGINEERING: TEXT (NLP)\n",
    "# BEST PRACTICE: Focus on contextual embeddings (Transformers)\n",
    "\n",
    "# General HuggingFace Transformers for model/tokenizer loading\n",
    "from transformers import AutoTokenizer, AutoModel\n",
    "\n",
    "# For superior sentence-level embeddings\n",
    "from sentence_transformers import SentenceTransformer\n",
    "\n",
    "\n",
    "# FEATURE ENGINEERING: VISION (IMAGES)\n",
    "# BEST PRACTICE: Use a modern CNN (ResNet, EfficientNet) via transfer learning\n",
    "from PIL import Image\n",
    "import requests\n",
    "import time # Good practice for handling retries/throttling during image download\n",
    "\n",
    "# PYTORCH, for easy transfer learning\n",
    "import torch\n",
    "from torchvision import models, transforms\n",
    "\n",
    "\n",
    "# MODELING, EVALUATION, & PREPROCESSING\n",
    "# BEST PRACTICE: Use efficient gradient boosting & the required custom metric\n",
    "from sklearn.model_selection import KFold\n",
    "from sklearn.preprocessing import StandardScaler, QuantileTransformer # Quantile is good for log-transformed price\n",
    "import lightgbm as lgb \n",
    "import xgboost as xgb \n",
    "\n",
    "# For visualising various plots\n",
    "import matplotlib.pyplot as plt\n",
    "import seaborn as sns\n",
    "\n",
    "# To define SMAPE for validation.\n",
    "from sklearn.metrics import make_scorer\n",
    "\n",
    "\n",
    "# Defining the SMAPE metric\n",
    "def smape(y_true, y_pred):\n",
    "    numerator = np.abs(y_pred - y_true)\n",
    "    denominator = (np.abs(y_true) + np.abs(y_pred)) / 2\n",
    "    return np.mean(numerator / denominator) * 100 # Multiply by 100 for percentage\n",
    "\n",
    "# Use sklearn's make_scorer for CV/Grid Search\n",
    "SMAPE_scorer = make_scorer(smape, greater_is_better=False)\n",
    "\n",
    "\n",
    "# Helper function import\n",
    "from src.utils import download_images"
   ]
  },
  {
   "cell_type": "markdown",
   "id": "72f9549f-82e7-4c67-8a35-237a2e531f38",
   "metadata": {},
   "source": [
    "# Load the datset"
   ]
  },
  {
   "cell_type": "code",
   "execution_count": 7,
   "id": "39b3dede-a8e5-40f2-9705-be34cd528249",
   "metadata": {},
   "outputs": [
    {
     "name": "stdout",
     "output_type": "stream",
     "text": [
      "   sample_id                                    catalog_content  \\\n",
      "0      33127  Item Name: La Victoria Green Taco Sauce Mild, ...   \n",
      "1     198967  Item Name: Salerno Cookies, The Original Butte...   \n",
      "2     261251  Item Name: Bear Creek Hearty Soup Bowl, Creamy...   \n",
      "3      55858  Item Name: Judee’s Blue Cheese Powder 11.25 oz...   \n",
      "4     292686  Item Name: kedem Sherry Cooking Wine, 12.7 Oun...   \n",
      "\n",
      "                                          image_link  price  \n",
      "0  https://m.media-amazon.com/images/I/51mo8htwTH...   4.89  \n",
      "1  https://m.media-amazon.com/images/I/71YtriIHAA...  13.12  \n",
      "2  https://m.media-amazon.com/images/I/51+PFEe-w-...   1.97  \n",
      "3  https://m.media-amazon.com/images/I/41mu0HAToD...  30.34  \n",
      "4  https://m.media-amazon.com/images/I/41sA037+Qv...  66.49  \n"
     ]
    }
   ],
   "source": [
    "train_df = pd.read_csv(\"dataset/train.csv\")\n",
    "print(train_df.head())"
   ]
  },
  {
   "cell_type": "markdown",
   "id": "6cde4bbc-aae7-486e-b6c6-396a782d6a6a",
   "metadata": {},
   "source": [
    "# Exploratory Data Analysis"
   ]
  },
  {
   "cell_type": "code",
   "execution_count": 9,
   "id": "5df5dfdb-0c22-4e3b-9a57-99bf35060024",
   "metadata": {},
   "outputs": [
    {
     "name": "stdout",
     "output_type": "stream",
     "text": [
      "Data types and info about non-null counts\n",
      "\n",
      "<class 'pandas.core.frame.DataFrame'>\n",
      "RangeIndex: 75000 entries, 0 to 74999\n",
      "Data columns (total 4 columns):\n",
      " #   Column           Non-Null Count  Dtype  \n",
      "---  ------           --------------  -----  \n",
      " 0   sample_id        75000 non-null  int64  \n",
      " 1   catalog_content  75000 non-null  object \n",
      " 2   image_link       75000 non-null  object \n",
      " 3   price            75000 non-null  float64\n",
      "dtypes: float64(1), int64(1), object(2)\n",
      "memory usage: 2.3+ MB\n",
      "None\n"
     ]
    }
   ],
   "source": [
    "print('Data types and info about non-null counts\\n')\n",
    "print(train_df.info())"
   ]
  },
  {
   "cell_type": "markdown",
   "id": "851ba712-cbeb-4ada-9698-ab14f382e69a",
   "metadata": {},
   "source": [
    "## Observations:\n",
    "No null values which is excellent, no need for dropping or imputing them. <br>\n",
    "'catalog_content' and 'image_link' are objects, perfect for feature engineering <br>\n",
    "'price' is float, regression on price"
   ]
  },
  {
   "cell_type": "code",
   "execution_count": 11,
   "id": "19592b48-eee9-4fce-8d42-a2416b800576",
   "metadata": {},
   "outputs": [
    {
     "name": "stdout",
     "output_type": "stream",
     "text": [
      "Descriptive statistics of the training data\n",
      "\n",
      "           sample_id         price\n",
      "count   75000.000000  75000.000000\n",
      "mean   149841.917707     23.647654\n",
      "std     86585.346513     33.376932\n",
      "min         0.000000      0.130000\n",
      "25%     73845.750000      6.795000\n",
      "50%    150129.000000     14.000000\n",
      "75%    225040.250000     28.625000\n",
      "max    299438.000000   2796.000000\n"
     ]
    }
   ],
   "source": [
    "print('Descriptive statistics of the training data\\n')\n",
    "print(train_df.describe())"
   ]
  },
  {
   "cell_type": "markdown",
   "id": "dd669d7c-0605-4ae4-8c0f-ca0ca2494f6e",
   "metadata": {},
   "source": [
    "## Observations:\n",
    "Mean of price 23.64 is much higher than the median 14 (50%)<br>\n",
    "Maximum price is 2796, this indicates the distribution is highly right-skewed\n"
   ]
  },
  {
   "cell_type": "code",
   "execution_count": 13,
   "id": "3e515c4e-f06e-493f-a1a8-f7312767183c",
   "metadata": {},
   "outputs": [
    {
     "data": {
      "image/png": "[encoded data removed]",
      "text/plain": [
       "<Figure size 1200x500 with 2 Axes>"
      ]
     },
     "metadata": {},
     "output_type": "display_data"
    }
   ],
   "source": [
    "# Distribution of the raw price\n",
    "plt.figure(figsize=(12, 5))\n",
    "plt.subplot(1, 2, 1)\n",
    "sns.histplot(train_df['price'], kde=True)\n",
    "plt.title('Price Distribution (Raw)')\n",
    "\n",
    "# Distribution of the log-transformed price (CRITICAL STEP)\n",
    "plt.subplot(1, 2, 2)\n",
    "sns.histplot(np.log1p(train_df['price']), kde=True) # Using np.log1p handles zero/near-zero values gracefully\n",
    "plt.title('Price Distribution (Log Transformed)')\n",
    "plt.show()"
   ]
  },
  {
   "cell_type": "markdown",
   "id": "ba309ee3-0160-4adc-ab1e-4b20dbe21037",
   "metadata": {},
   "source": [
    "## Observation:\n",
    "The raw price distribution is highly skewed, hence a regression model trained on this data will lead to poor performance on the vast majority of low priced items <br>\n",
    "The Log transformed distribution resembles a symmetrical, near Gaussian-distribution, allowing the model to perform better.\n"
   ]
  },
  {
   "cell_type": "code",
   "execution_count": 15,
   "id": "69afbe20-0328-4c77-b13a-5068d12ca62d",
   "metadata": {},
   "outputs": [
    {
     "name": "stdout",
     "output_type": "stream",
     "text": [
      "--- Full Catalog Content Inspection ---\n",
      "0                                                                                                                                                                                                                                                                                                                                                                                                                                                                                                                                                                                                                                                                                                                                                                                                                                                                                                                                                                                                                                                                                                                                                                                                                                                                                     Item Name: La Victoria Green Taco Sauce Mild, 12 Ounce (Pack of 6)\\nValue: 72.0\\nUnit: Fl Oz\\n\n",
      "1                                                                                                                                                                                                                                                                                                                                                                                                                                                                                                                                                                                                                                                                                                                                                                                                                                            Item Name: Salerno Cookies, The Original Butter Cookies, 8 Ounce (Pack of 4)\\nBullet Point 1: Original Butter Cookies: Classic butter cookies made with real butter\\nBullet Point 2: Variety Pack: Includes 4 boxes with 32 cookies total\\nBullet Point 3: Occasion Perfect: Delicious cookies for birthdays, weddings, anniversaries\\nBullet Point 4: Shareable Treats: Fun to give and enjoy with friends and family\\nBullet Point 5: Salerno Brand: Trusted brand of delicious butter cookies since 1925\\nValue: 32.0\\nUnit: Ounce\\n\n",
      "2                                                                                                                                                                                                                                                                                                                                                                                                                                                                                                                                                                                                                                                                                                                                                                                                                                                                                                                                                                                                                                   Item Name: Bear Creek Hearty Soup Bowl, Creamy Chicken with Rice, 1.9 Ounce (Pack of 6)\\nBullet Point 1: Loaded with hearty long grain wild rice and vegetables\\nBullet Point 2: Full of hearty goodness\\nBullet Point 3: Single serve bowls\\nBullet Point 4: Easy to prepare mix\\nBullet Point 5: 0 grams trans fat\\nValue: 11.4\\nUnit: Ounce\\n\n",
      "3    Item Name: Judee’s Blue Cheese Powder 11.25 oz - Gluten-Free and Nut-Free - Use in Seasonings and Salad Dressings - Great for Dips, Spreads and Sauces - Made in USA\\nBullet Point 1: Add to your favorite appetizers, dips & spreads. Use to season popcorn or warmed pita chips.\\nBullet Point 2: Sprinkle over french fries, fried chicken, mashed potatoes, roasted veggies, pasta, and more\\nBullet Point 3: Made in a dedicated gluten-free facility and shipped in a standup, resealable pouch to ensure freshness\\nBullet Point 4: Ingredients: Blue Cheese (Milk, Salt, Cultures, & Enzymes) and Disodium Phosphate\\nBullet Point 5: Since 2009, Judee’s has been dedicated to providing fresh, allergy-conscious ingredients, great for your recipes and even better for your family\\nProduct Description: Judees Powdered Blue Cheese cheddar cheese powder is an alternative to mozzarella cheese shredded or american cheese slices deli. Make your own alfredo sauce with heavy cream and black buffalo dip with this powder. It adds extra flavor to salad dressing like ranch dressing and great on pizza dough or cauliflower pasta. Add to macaroni and cheese or popcorn seasoning for more aroma and cheesy feel. Combine with mustard and other ingredients to create your own dressing for buffalo chicken or buffalo wings.\\nValue: 11.25\\nUnit: Ounce\\n\n",
      "4                                                                                                                                                                                                                                                                                                                                                                                                                                                                                                                                                                                                                                                                                                                                                                                                                                                                                                                                                                                                                                                                                                                                                                                                                    Item Name: kedem Sherry Cooking Wine, 12.7 Ounce - 12 per case.\\nBullet Point: kedem Sherry Cooking Wine, 12.7 Ounce - 12 per case.\\nValue: 12.0\\nUnit: Count\\n\n",
      "Name: catalog_content, dtype: object\n"
     ]
    }
   ],
   "source": [
    "# Set the option to display the full content of a column\n",
    "pd.set_option('display.max_colwidth', None)\n",
    "\n",
    "# Print a few rows of the catalog_content to inspect the full text\n",
    "print(\"--- Full Catalog Content Inspection ---\")\n",
    "print(train_df['catalog_content'].head())\n",
    "\n",
    "# Reset the option afterward (good practice)\n",
    "# pd.set_option('display.max_colwidth', 50)"
   ]
  },
  {
   "cell_type": "markdown",
   "id": "475c9e6e-be79-4ee4-9bf0-ea01864cce26",
   "metadata": {},
   "source": [
    "## Observations:\n",
    "The data format is consistent with: <br>\n",
    "Item Name: text <br> \n",
    "Bullet Point 1...X: text <br>\n",
    "Value: number<br>\n",
    "Unit: unit-name"
   ]
  },
  {
   "cell_type": "markdown",
   "id": "b2b99592-59aa-42cb-af4e-1aa32f52a2d6",
   "metadata": {},
   "source": [
    "# Feature Engineering"
   ]
  },
  {
   "cell_type": "markdown",
   "id": "d74b3540-a212-47a6-9499-777410891393",
   "metadata": {},
   "source": [
    "## Adding a new target column (log_price)"
   ]
  },
  {
   "cell_type": "code",
   "execution_count": 17,
   "id": "2ad605eb-69a7-4146-85d6-da1b5c1cf53a",
   "metadata": {},
   "outputs": [
    {
     "name": "stdout",
     "output_type": "stream",
     "text": [
      "First 5 original prices:\n",
      "0     4.89\n",
      "1    13.12\n",
      "2     1.97\n",
      "3    30.34\n",
      "4    66.49\n",
      "Name: price, dtype: float64\n",
      "\n",
      "First 5 log-transformed prices (our new target):\n",
      "0    1.773256\n",
      "1    2.647592\n",
      "2    1.088562\n",
      "3    3.444895\n",
      "4    4.211979\n",
      "Name: log_price, dtype: float64\n"
     ]
    }
   ],
   "source": [
    "# log-transformation on the target price column\n",
    "train_df['log_price'] = np.log1p(train_df['price'])\n",
    "\n",
    "# For verification: Printing the first few original & transformed values\n",
    "print(\"First 5 original prices:\")\n",
    "print(train_df['price'].head())\n",
    "print(\"\\nFirst 5 log-transformed prices (our new target):\")\n",
    "print(train_df['log_price'].head())"
   ]
  },
  {
   "cell_type": "markdown",
   "id": "4807c163-2e34-4ba0-b388-a90685374969",
   "metadata": {},
   "source": [
    "## Adding new columns: base_value, base_unit, item_name"
   ]
  },
  {
   "cell_type": "code",
   "execution_count": 19,
   "id": "d9a44b94-1f99-4e50-94e7-65bd3e64e05e",
   "metadata": {},
   "outputs": [
    {
     "name": "stdout",
     "output_type": "stream",
     "text": [
      "\n",
      "--- Normalized Base Unit Check (Top 5) ---\n",
      "\n",
      "--- Base Unit After Binning into 'Other' ---\n",
      "base_unit_binned\n",
      "Ounce/FlOz    55341\n",
      "Count         18267\n",
      "None            940\n",
      "Pound           240\n",
      "Other           212\n",
      "Name: count, dtype: int64\n",
      "\n",
      "Top 5 Base Units:\n",
      "base_unit\n",
      "Ounce/FlOz    55341\n",
      "Count         18267\n",
      "None            940\n",
      "Pound           240\n",
      "Gram             43\n",
      "Name: count, dtype: int64\n"
     ]
    }
   ],
   "source": [
    "# 1. Extract Base Value\n",
    "def extract_base_value(text):\n",
    "    \"\"\"Extracts the numerical 'Value' field.\"\"\"\n",
    "    if pd.isna(text): return None\n",
    "    # Pattern: 'Value: ' followed by a number (including decimals)\n",
    "    match = re.search(r'Value: ([\\d.]+)', str(text))\n",
    "    if match:\n",
    "        try:\n",
    "            return float(match.group(1))\n",
    "        except ValueError:\n",
    "            return None\n",
    "    return None\n",
    "\n",
    "# 2. Extract Base Unit\n",
    "def extract_base_unit(text):\n",
    "    \"\"\"Extracts the categorical 'Unit' field.\"\"\"\n",
    "    if pd.isna(text): return 'Unknown'\n",
    "    # Pattern: 'Unit: ' followed by one or more word characters\n",
    "    match = re.search(r'Unit: (\\w+)', str(text))\n",
    "    if match:\n",
    "        return match.group(1).strip()\n",
    "    return 'Unknown'\n",
    "\n",
    "# Function to normalize unit categories\n",
    "# --- FINAL ROBUST UNIT NORMALIZATION FUNCTION ---\n",
    "def normalize_unit(unit):\n",
    "    if pd.isna(unit):\n",
    "        return 'Unknown'\n",
    "    unit = unit.lower().strip()\n",
    "    \n",
    "    # 1. Volume/Weight Normalization\n",
    "    if unit in ['oz', 'ounce', 'fl oz', 'fl', 'fluid']:\n",
    "        return 'Ounce/FlOz'\n",
    "    if unit in ['lb', 'pound', 'pounds', 'lbs']: # <--- ADDED 'lbs'\n",
    "        return 'Pound'\n",
    "    if unit in ['g', 'gram', 'grams']:\n",
    "        return 'Gram'\n",
    "    if unit in ['l', 'liter', 'quart']:\n",
    "        return 'Liter'\n",
    "    if unit in ['ml', 'millilitre', 'milliliter']:\n",
    "        return 'Milliliter'\n",
    "    \n",
    "    # 2. Count/Discrete Item Normalization\n",
    "    if unit in ['count', 'ct', 'pcs', 'ea', 'pac', 'packet', 'pk', 'pack']: # <--- ADDED 'ea', 'pac', 'packet'\n",
    "        return 'Count'\n",
    "    \n",
    "    # 3. Handle 'none' and everything else for THRESHOLD_COUNT to bin\n",
    "    if unit == 'none':\n",
    "        return 'None'\n",
    "    \n",
    "    return unit # Returns the raw unit for the binning step to catch\n",
    "\n",
    "\n",
    "\n",
    "print(\"\\n--- Normalized Base Unit Check (Top 5) ---\")\n",
    "train_df['base_value'] = train_df['catalog_content'].apply(extract_base_value)\n",
    "train_df['base_unit'] = train_df['catalog_content'].apply(extract_base_unit)\n",
    "train_df['base_unit'] = train_df['base_unit'].apply(normalize_unit)\n",
    "\n",
    "# Define a threshold for \"Other\" category (e.g., any unit with less than 200 occurrences)\n",
    "# Based on the output: pound=202, fluid=53, gram=39, etc.\n",
    "THRESHOLD_COUNT = 200 \n",
    "\n",
    "# Get the value counts\n",
    "unit_counts = train_df['base_unit'].value_counts()\n",
    "\n",
    "# Identify units to be binned into 'Other'\n",
    "low_frequency_units = unit_counts[unit_counts < THRESHOLD_COUNT].index\n",
    "\n",
    "# Apply the binning\n",
    "train_df['base_unit_binned'] = train_df['base_unit'].apply(\n",
    "    lambda x: 'Other' if x in low_frequency_units else x\n",
    ")\n",
    "\n",
    "print(\"\\n--- Base Unit After Binning into 'Other' ---\")\n",
    "print(train_df['base_unit_binned'].value_counts().head(10))\n",
    "print(\"\\nTop 5 Base Units:\")\n",
    "print(train_df['base_unit'].value_counts().head())"
   ]
  },
  {
   "cell_type": "code",
   "execution_count": 21,
   "id": "1c25862d-4c8a-4a25-a350-96dc95d9a615",
   "metadata": {},
   "outputs": [
    {
     "name": "stdout",
     "output_type": "stream",
     "text": [
      "Extracted Item Name Check\n",
      "0                                                                                                      La Victoria Green Taco Sauce Mild, 12 Ounce (Pack of 6)\n",
      "1                                                                                            Salerno Cookies, The Original Butter Cookies, 8 Ounce (Pack of 4)\n",
      "2                                                                                 Bear Creek Hearty Soup Bowl, Creamy Chicken with Rice, 1.9 Ounce (Pack of 6)\n",
      "3    Judee’s Blue Cheese Powder 11.25 oz - Gluten-Free and Nut-Free - Use in Seasonings and Salad Dressings - Great for Dips, Spreads and Sauces - Made in USA\n",
      "4                                                                                                         kedem Sherry Cooking Wine, 12.7 Ounce - 12 per case.\n",
      "Name: item_name, dtype: object\n"
     ]
    }
   ],
   "source": [
    "def extract_item_name(text):\n",
    "    \"\"\"\n",
    "    Extracts the Item Name by capturing everything after 'Item Name:'\n",
    "    up to the first newline (\\n), which is a robust delimiter in this catalog structure.\n",
    "    \"\"\"\n",
    "    if pd.isna(text): \n",
    "        return None\n",
    "    \n",
    "    text = str(text)\n",
    "\n",
    "    # Pattern: 'Item Name: ' followed by any characters (non-greedy, .*?) until a newline or end of string\n",
    "    # We use re.search and then manually split to get the first line\n",
    "    match = re.search(r'Item Name: (.*)', text, re.IGNORECASE | re.DOTALL)\n",
    "    \n",
    "    if match:\n",
    "        # Get the captured string (everything after 'Item Name:')\n",
    "        full_string = match.group(1)\n",
    "        \n",
    "        # Split by newline and take the first line (the item name)\n",
    "        item_name = full_string.split('\\n')[0].strip()\n",
    "        \n",
    "        # Clean up any trailing commas, if any remain\n",
    "        return item_name.rstrip(',')\n",
    "        \n",
    "    return None\n",
    "\n",
    "# Apply the function to see the improved result\n",
    "train_df['item_name'] = train_df['catalog_content'].apply(extract_item_name)\n",
    "\n",
    "print(\"Extracted Item Name Check\")\n",
    "print(train_df['item_name'].head())"
   ]
  },
  {
   "cell_type": "markdown",
   "id": "2b7cb932-87e3-45ec-ae3f-bf8b39c0323d",
   "metadata": {},
   "source": [
    "## Creating item_pack_quantity column & cleaned_text column"
   ]
  },
  {
   "cell_type": "code",
   "execution_count": 23,
   "id": "1af8f498-5910-44c6-b4df-cfce4b0afb6b",
   "metadata": {},
   "outputs": [
    {
     "name": "stdout",
     "output_type": "stream",
     "text": [
      "Item Pack Quantity (IPQ)\n",
      "0     6\n",
      "1     4\n",
      "2     6\n",
      "3     1\n",
      "4    12\n",
      "Name: item_pack_quantity, dtype: int64\n"
     ]
    }
   ],
   "source": [
    "'''\n",
    " IPQ Pattern:\n",
    " 1. Finds 'X' followed by common packaging terms (pack, case, ct, etc.) \n",
    " 2. Finds the common e-commerce phrases 'pack of X' and 'X per case'\n",
    " 3. Finds the number BEFORE 'per case' or 'per pack'\n",
    "'''\n",
    "IPQ_PATTERN = r'(\\d+)\\s*(?:per\\s*case|per\\s*pack)|(?:pack of|per\\s*case)\\s*(\\d+)|(\\d+)\\s*\\b(?:pack|count|pcs|ct|case|box)\\b'\n",
    "\n",
    "def extract_ipq(text):\n",
    "    \"\"\"Extracts the number of items/quantity from a text string, defaulting to 1.\"\"\"\n",
    "    if pd.isna(text):\n",
    "        return 1\n",
    "    text = str(text).lower()\n",
    "\n",
    "    # Try to find a match using the final pattern\n",
    "    # We look for matches across all three capturing groups\n",
    "    matches = re.findall(IPQ_PATTERN, text)\n",
    "    \n",
    "    # Prioritize the largest number found, as this is often the total pack quantity.\n",
    "    max_ipq = 1\n",
    "    for m in matches:\n",
    "        # Check all three groups and take the non-empty string\n",
    "        for num_str in m:\n",
    "            if num_str:\n",
    "                try:\n",
    "                    num = int(num_str)\n",
    "                    if num > max_ipq:\n",
    "                        max_ipq = num\n",
    "                except ValueError:\n",
    "                    continue\n",
    "\n",
    "    return max_ipq # Default remains 1 if nothing is found\n",
    "\n",
    "\n",
    "train_df['item_pack_quantity'] = train_df['catalog_content'].apply(extract_ipq)\n",
    "print(\"Item Pack Quantity (IPQ)\")\n",
    "print(train_df['item_pack_quantity'].head())"
   ]
  },
  {
   "cell_type": "code",
   "execution_count": 25,
   "id": "9f137f6f-f56c-401a-9239-b71735022858",
   "metadata": {},
   "outputs": [
    {
     "name": "stdout",
     "output_type": "stream",
     "text": [
      "0                                                                                                                                                                                                                                                                                                                                                                                                                                                                                                                                                                                                                                                                                                                                                                                                                                                                                                                                                                                                                                                                                                                                                                                                                                                                   item name: la victoria green taco sauce mild, 12 ounce (pack of 6) value: 72.0 unit: fl oz\n",
      "1                                                                                                                                                                                                                                                                                                                                                                                                                                                                                                                                                                                                                                                                                                                                                                                                                               item name: salerno cookies, the original butter cookies, 8 ounce (pack of 4) bullet point 1: original butter cookies: classic butter cookies made with real butter bullet point 2: variety pack: includes 4 boxes with 32 cookies total bullet point 3: occasion perfect: delicious cookies for birthdays, weddings, anniversaries bullet point 4: shareable treats: fun to give and enjoy with friends and family bullet point 5: salerno brand: trusted brand of delicious butter cookies since 1925 value: 32.0 unit: ounce\n",
      "2                                                                                                                                                                                                                                                                                                                                                                                                                                                                                                                                                                                                                                                                                                                                                                                                                                                                                                                                                                                                                      item name: bear creek hearty soup bowl, creamy chicken with rice, 1.9 ounce (pack of 6) bullet point 1: loaded with hearty long grain wild rice and vegetables bullet point 2: full of hearty goodness bullet point 3: single serve bowls bullet point 4: easy to prepare mix bullet point 5: 0 grams trans fat value: 11.4 unit: ounce\n",
      "3    item name: judee s blue cheese powder 11.25 oz gluten free and nut free use in seasonings and salad dressings great for dips, spreads and sauces made in usa bullet point 1: add to your favorite appetizers, dips spreads. use to season popcorn or warmed pita chips. bullet point 2: sprinkle over french fries, fried chicken, mashed potatoes, roasted veggies, pasta, and more bullet point 3: made in a dedicated gluten free facility and shipped in a standup, resealable pouch to ensure freshness bullet point 4: ingredients: blue cheese (milk, salt, cultures, enzymes) and disodium phosphate bullet point 5: since 2009, judee s has been dedicated to providing fresh, allergy conscious ingredients, great for your recipes and even better for your family product description: judees powdered blue cheese cheddar cheese powder is an alternative to mozzarella cheese shredded or american cheese slices deli. make your own alfredo sauce with heavy cream and black buffalo dip with this powder. it adds extra flavor to salad dressing like ranch dressing and great on pizza dough or cauliflower pasta. add to macaroni and cheese or popcorn seasoning for more aroma and cheesy feel. combine with mustard and other ingredients to create your own dressing for buffalo chicken or buffalo wings. value: 11.25 unit: ounce\n",
      "4                                                                                                                                                                                                                                                                                                                                                                                                                                                                                                                                                                                                                                                                                                                                                                                                                                                                                                                                                                                                                                                                                                                                                                                                       item name: kedem sherry cooking wine, 12.7 ounce 12 per case. bullet point: kedem sherry cooking wine, 12.7 ounce 12 per case. value: 12.0 unit: count\n",
      "Name: clean_catalog_content, dtype: object\n",
      "Cleaned Catalog Content created.\n"
     ]
    }
   ],
   "source": [
    "def clean_text(text):\n",
    "    \"\"\"Cleans text for Transformer input by normalizing and removing noise.\"\"\"\n",
    "    if pd.isna(text):\n",
    "        return \"\"\n",
    "    text = str(text).lower()\n",
    "    # Replace newlines with spaces\n",
    "    text = text.replace('\\n', ' ')\n",
    "    # Remove characters that aren't letters, numbers, or standard punctuation\n",
    "    text = re.sub(r'[^a-z0-9\\s.,?!:;\\'\"()_]', ' ', text)\n",
    "    # Remove extra whitespace\n",
    "    text = re.sub(r'\\s+', ' ', text).strip()\n",
    "    return text\n",
    "\n",
    "train_df['clean_catalog_content'] = train_df['catalog_content'].apply(clean_text)\n",
    "print(train_df['clean_catalog_content'].head())\n",
    "print(\"Cleaned Catalog Content created.\")"
   ]
  },
  {
   "cell_type": "markdown",
   "id": "baad962c-b56d-45e8-a1f2-c5f1be457c77",
   "metadata": {},
   "source": [
    "## Generate text embeddings"
   ]
  },
  {
   "cell_type": "code",
   "execution_count": 69,
   "id": "d48c4a40-83e5-4075-b1a4-26ee19e4d9ee",
   "metadata": {},
   "outputs": [
    {
     "name": "stdout",
     "output_type": "stream",
     "text": [
      "Loading Sentence Transformer model: all-MiniLM-L6-v2...\n"
     ]
    },
    {
     "data": {
      "application/vnd.jupyter.widget-view+json": {
       "model_id": "f337dad5cfb24e25bb9e9c11857d84db",
       "version_major": 2,
       "version_minor": 0
      },
      "text/plain": [
       "modules.json:   0%|          | 0.00/349 [00:00<?, ?B/s]"
      ]
     },
     "metadata": {},
     "output_type": "display_data"
    },
    {
     "name": "stderr",
     "output_type": "stream",
     "text": [
      "C:\\Users\\yella\\Anaconda\\Lib\\site-packages\\huggingface_hub\\file_download.py:143: UserWarning: `huggingface_hub` cache-system uses symlinks by default to efficiently store duplicated files but your machine does not support them in C:\\Users\\yella\\.cache\\huggingface\\hub\\models--sentence-transformers--all-MiniLM-L6-v2. Caching files will still work but in a degraded version that might require more space on your disk. This warning can be disabled by setting the `HF_HUB_DISABLE_SYMLINKS_WARNING` environment variable. For more details, see https://huggingface.co/docs/huggingface_hub/how-to-cache#limitations.\n",
      "To support symlinks on Windows, you either need to activate Developer Mode or to run Python as an administrator. In order to activate developer mode, see this article: https://docs.microsoft.com/en-us/windows/apps/get-started/enable-your-device-for-development\n",
      "  warnings.warn(message)\n"
     ]
    },
    {
     "data": {
      "application/vnd.jupyter.widget-view+json": {
       "model_id": "f46905e3a0294eb385a660398c7ca943",
       "version_major": 2,
       "version_minor": 0
      },
      "text/plain": [
       "config_sentence_transformers.json:   0%|          | 0.00/116 [00:00<?, ?B/s]"
      ]
     },
     "metadata": {},
     "output_type": "display_data"
    },
    {
     "data": {
      "application/vnd.jupyter.widget-view+json": {
       "model_id": "8d815ab509064c64975e511c212e6f62",
       "version_major": 2,
       "version_minor": 0
      },
      "text/plain": [
       "README.md: 0.00B [00:00, ?B/s]"
      ]
     },
     "metadata": {},
     "output_type": "display_data"
    },
    {
     "data": {
      "application/vnd.jupyter.widget-view+json": {
       "model_id": "3848c644541b4e2095ced84929a53e71",
       "version_major": 2,
       "version_minor": 0
      },
      "text/plain": [
       "sentence_bert_config.json:   0%|          | 0.00/53.0 [00:00<?, ?B/s]"
      ]
     },
     "metadata": {},
     "output_type": "display_data"
    },
    {
     "data": {
      "application/vnd.jupyter.widget-view+json": {
       "model_id": "deef57f16ca94e1da0722124fb43064a",
       "version_major": 2,
       "version_minor": 0
      },
      "text/plain": [
       "config.json:   0%|          | 0.00/612 [00:00<?, ?B/s]"
      ]
     },
     "metadata": {},
     "output_type": "display_data"
    },
    {
     "name": "stderr",
     "output_type": "stream",
     "text": [
      "Xet Storage is enabled for this repo, but the 'hf_xet' package is not installed. Falling back to regular HTTP download. For better performance, install the package with: `pip install huggingface_hub[hf_xet]` or `pip install hf_xet`\n"
     ]
    },
    {
     "data": {
      "application/vnd.jupyter.widget-view+json": {
       "model_id": "29f5dde8005046cf9b26337b76799d14",
       "version_major": 2,
       "version_minor": 0
      },
      "text/plain": [
       "model.safetensors:   0%|          | 0.00/90.9M [00:00<?, ?B/s]"
      ]
     },
     "metadata": {},
     "output_type": "display_data"
    },
    {
     "data": {
      "application/vnd.jupyter.widget-view+json": {
       "model_id": "d4981cf01737435aa86df99e0ee9d874",
       "version_major": 2,
       "version_minor": 0
      },
      "text/plain": [
       "tokenizer_config.json:   0%|          | 0.00/350 [00:00<?, ?B/s]"
      ]
     },
     "metadata": {},
     "output_type": "display_data"
    },
    {
     "data": {
      "application/vnd.jupyter.widget-view+json": {
       "model_id": "1c0ad3f0d6e144218c7869e6858b3331",
       "version_major": 2,
       "version_minor": 0
      },
      "text/plain": [
       "vocab.txt: 0.00B [00:00, ?B/s]"
      ]
     },
     "metadata": {},
     "output_type": "display_data"
    },
    {
     "data": {
      "application/vnd.jupyter.widget-view+json": {
       "model_id": "cee63ddf7afd456483c956fbc534bb42",
       "version_major": 2,
       "version_minor": 0
      },
      "text/plain": [
       "tokenizer.json: 0.00B [00:00, ?B/s]"
      ]
     },
     "metadata": {},
     "output_type": "display_data"
    },
    {
     "data": {
      "application/vnd.jupyter.widget-view+json": {
       "model_id": "72f67aadc699424bb1e4edd1dd98062e",
       "version_major": 2,
       "version_minor": 0
      },
      "text/plain": [
       "special_tokens_map.json:   0%|          | 0.00/112 [00:00<?, ?B/s]"
      ]
     },
     "metadata": {},
     "output_type": "display_data"
    },
    {
     "data": {
      "application/vnd.jupyter.widget-view+json": {
       "model_id": "34c17def417b4c8b9bac8adcc9c7c134",
       "version_major": 2,
       "version_minor": 0
      },
      "text/plain": [
       "config.json:   0%|          | 0.00/190 [00:00<?, ?B/s]"
      ]
     },
     "metadata": {},
     "output_type": "display_data"
    },
    {
     "name": "stdout",
     "output_type": "stream",
     "text": [
      "\n",
      "--- Generating Text Embeddings (NLP) ---\n",
      "Converting text data into high-dimensional numerical vectors...\n"
     ]
    },
    {
     "data": {
      "application/vnd.jupyter.widget-view+json": {
       "model_id": "536da958dc424d9d8a4bcc1cbe5b4308",
       "version_major": 2,
       "version_minor": 0
      },
      "text/plain": [
       "Batches:   0%|          | 0/2344 [00:00<?, ?it/s]"
      ]
     },
     "metadata": {},
     "output_type": "display_data"
    },
    {
     "name": "stdout",
     "output_type": "stream",
     "text": [
      "\n",
      "Text embeddings generated successfully.\n",
      "Shape of embeddings: (75000, 384)\n",
      "Each product's description is now represented by a 384-dimensional vector.\n"
     ]
    }
   ],
   "source": [
    "# We'll use the 'all-MiniLM-L6-v2' model for efficiency and performance\n",
    "model_name = 'all-MiniLM-L6-v2' \n",
    "\n",
    "print(f\"Loading Sentence Transformer model: {model_name}...\")\n",
    "model = SentenceTransformer(model_name)\n",
    "\n",
    "# Use the cleaned text column\n",
    "text_data = train_df['clean_catalog_content'].tolist()\n",
    "\n",
    "print(\"\\n--- Generating Text Embeddings (NLP) ---\")\n",
    "print(\"Converting text data into high-dimensional numerical vectors...\")\n",
    "\n",
    "# Encode the text data. This is a resource-intensive step.\n",
    "train_embeddings = model.encode(text_data, \n",
    "                                show_progress_bar=True, \n",
    "                                convert_to_numpy=True,\n",
    "                                batch_size=32) # Using a batch size for efficiency\n",
    "\n",
    "embedding_dim = train_embeddings.shape[1]\n",
    "\n",
    "print(f\"\\nText embeddings generated successfully.\")\n",
    "print(f\"Shape of embeddings: {train_embeddings.shape}\")\n",
    "print(f\"Each product's description is now represented by a {embedding_dim}-dimensional vector.\")"
   ]
  },
  {
   "cell_type": "code",
   "execution_count": 72,
   "id": "91b4826b-74af-436b-85fe-022cebfb08fd",
   "metadata": {},
   "outputs": [
    {
     "name": "stdout",
     "output_type": "stream",
     "text": [
      "Loading Sentence Transformer model: all-mpnet-base-v2...\n"
     ]
    },
    {
     "data": {
      "application/vnd.jupyter.widget-view+json": {
       "model_id": "c9506add3892430494b338e54b4344db",
       "version_major": 2,
       "version_minor": 0
      },
      "text/plain": [
       "modules.json:   0%|          | 0.00/349 [00:00<?, ?B/s]"
      ]
     },
     "metadata": {},
     "output_type": "display_data"
    },
    {
     "name": "stderr",
     "output_type": "stream",
     "text": [
      "C:\\Users\\yella\\Anaconda\\Lib\\site-packages\\huggingface_hub\\file_download.py:143: UserWarning: `huggingface_hub` cache-system uses symlinks by default to efficiently store duplicated files but your machine does not support them in C:\\Users\\yella\\.cache\\huggingface\\hub\\models--sentence-transformers--all-mpnet-base-v2. Caching files will still work but in a degraded version that might require more space on your disk. This warning can be disabled by setting the `HF_HUB_DISABLE_SYMLINKS_WARNING` environment variable. For more details, see https://huggingface.co/docs/huggingface_hub/how-to-cache#limitations.\n",
      "To support symlinks on Windows, you either need to activate Developer Mode or to run Python as an administrator. In order to activate developer mode, see this article: https://docs.microsoft.com/en-us/windows/apps/get-started/enable-your-device-for-development\n",
      "  warnings.warn(message)\n"
     ]
    },
    {
     "data": {
      "application/vnd.jupyter.widget-view+json": {
       "model_id": "b5ae972416a4484ebcb16fa97ae2370d",
       "version_major": 2,
       "version_minor": 0
      },
      "text/plain": [
       "config_sentence_transformers.json:   0%|          | 0.00/116 [00:00<?, ?B/s]"
      ]
     },
     "metadata": {},
     "output_type": "display_data"
    },
    {
     "data": {
      "application/vnd.jupyter.widget-view+json": {
       "model_id": "d2797d708a24472a847d6014cf612d32",
       "version_major": 2,
       "version_minor": 0
      },
      "text/plain": [
       "README.md: 0.00B [00:00, ?B/s]"
      ]
     },
     "metadata": {},
     "output_type": "display_data"
    },
    {
     "data": {
      "application/vnd.jupyter.widget-view+json": {
       "model_id": "0de8a799e13e4be3ae72778b5b32b2ec",
       "version_major": 2,
       "version_minor": 0
      },
      "text/plain": [
       "sentence_bert_config.json:   0%|          | 0.00/53.0 [00:00<?, ?B/s]"
      ]
     },
     "metadata": {},
     "output_type": "display_data"
    },
    {
     "data": {
      "application/vnd.jupyter.widget-view+json": {
       "model_id": "13b8c125693d44adbdafe37c80253b62",
       "version_major": 2,
       "version_minor": 0
      },
      "text/plain": [
       "config.json:   0%|          | 0.00/571 [00:00<?, ?B/s]"
      ]
     },
     "metadata": {},
     "output_type": "display_data"
    },
    {
     "name": "stderr",
     "output_type": "stream",
     "text": [
      "Xet Storage is enabled for this repo, but the 'hf_xet' package is not installed. Falling back to regular HTTP download. For better performance, install the package with: `pip install huggingface_hub[hf_xet]` or `pip install hf_xet`\n"
     ]
    },
    {
     "data": {
      "application/vnd.jupyter.widget-view+json": {
       "model_id": "f95bdbed26234c2db64a5949dbab50fe",
       "version_major": 2,
       "version_minor": 0
      },
      "text/plain": [
       "model.safetensors:   0%|          | 0.00/438M [00:00<?, ?B/s]"
      ]
     },
     "metadata": {},
     "output_type": "display_data"
    },
    {
     "data": {
      "application/vnd.jupyter.widget-view+json": {
       "model_id": "bfdeac59fc5644e2b154346cc175c780",
       "version_major": 2,
       "version_minor": 0
      },
      "text/plain": [
       "tokenizer_config.json:   0%|          | 0.00/363 [00:00<?, ?B/s]"
      ]
     },
     "metadata": {},
     "output_type": "display_data"
    },
    {
     "data": {
      "application/vnd.jupyter.widget-view+json": {
       "model_id": "661555fb2fb24688803e56ea425bae74",
       "version_major": 2,
       "version_minor": 0
      },
      "text/plain": [
       "vocab.txt: 0.00B [00:00, ?B/s]"
      ]
     },
     "metadata": {},
     "output_type": "display_data"
    },
    {
     "data": {
      "application/vnd.jupyter.widget-view+json": {
       "model_id": "d02c7dbf526d4eba926640a1dd8cade5",
       "version_major": 2,
       "version_minor": 0
      },
      "text/plain": [
       "tokenizer.json: 0.00B [00:00, ?B/s]"
      ]
     },
     "metadata": {},
     "output_type": "display_data"
    },
    {
     "data": {
      "application/vnd.jupyter.widget-view+json": {
       "model_id": "fabf822eedaa4befa70294536ab3fa7d",
       "version_major": 2,
       "version_minor": 0
      },
      "text/plain": [
       "special_tokens_map.json:   0%|          | 0.00/239 [00:00<?, ?B/s]"
      ]
     },
     "metadata": {},
     "output_type": "display_data"
    },
    {
     "data": {
      "application/vnd.jupyter.widget-view+json": {
       "model_id": "232e088dfb584febaf33f37058c32f1c",
       "version_major": 2,
       "version_minor": 0
      },
      "text/plain": [
       "config.json:   0%|          | 0.00/190 [00:00<?, ?B/s]"
      ]
     },
     "metadata": {},
     "output_type": "display_data"
    },
    {
     "name": "stdout",
     "output_type": "stream",
     "text": [
      "\n",
      "--- Generating Text Embeddings (NLP) ---\n",
      "Converting text data into high-dimensional numerical vectors...\n",
      "\n",
      "Text embeddings generated successfully.\n",
      "Shape of embeddings: (75000, 384)\n",
      "Each product's description is now represented by a 384-dimensional vector.\n"
     ]
    }
   ],
   "source": [
    "# We'll use the 'all-mpnet-base-v2' model now for richer semantic understanding\n",
    "model_name = 'all-mpnet-base-v2' \n",
    "\n",
    "print(f\"Loading Sentence Transformer model: {model_name}...\")\n",
    "model = SentenceTransformer(model_name)\n",
    "\n",
    "# Use the cleaned text column\n",
    "text_data = train_df['clean_catalog_content'].tolist()\n",
    "\n",
    "print(\"\\n--- Generating Text Embeddings (NLP) ---\")\n",
    "print(\"Converting text data into high-dimensional numerical vectors...\")\n",
    "\n",
    "# Encode the text data. This is a resource-intensive step.\n",
    "train_embeddings_mpnet = model.encode(text_data,  \n",
    "                                convert_to_numpy=True,\n",
    "                                batch_size=32) # Using a batch size for efficiency\n",
    "\n",
    "embedding_dim_mpnet = train_embeddings.shape[1]\n",
    "\n",
    "print(f\"\\nText embeddings generated successfully.\")\n",
    "print(f\"Shape of embeddings: {train_embeddings.shape}\")\n",
    "print(f\"Each product's description is now represented by a {embedding_dim}-dimensional vector.\")"
   ]
  },
  {
   "cell_type": "markdown",
   "id": "41d47bee-ca78-4e5c-8f54-c7a592a292fd",
   "metadata": {},
   "source": [
    "## Ensemble step:\n",
    "Combine the embeddings from diverse models giving our model multiple sematic perspectives <br>\n",
    "This leads to better generalization and consequently higher accuracy"
   ]
  },
  {
   "cell_type": "code",
   "execution_count": 27,
   "id": "2b1a4452-f58d-47c6-942a-6a541d50295e",
   "metadata": {},
   "outputs": [
    {
     "name": "stdout",
     "output_type": "stream",
     "text": [
      "Both sets of text embeddings saved successfully\n",
      "Concatenated Text Feature Shape: (75000, 1152)\n",
      "Total dimensionality of the text feature: 1152\n"
     ]
    }
   ],
   "source": [
    "# Save the embeddings generated by both models\n",
    "os.makedirs('embeddings', exist_ok = True)\n",
    "# Save concatenated embeddings for all-MiniLM-L6-v2\n",
    "# np.save('miniLM_model_embeddings.npy', train_embeddings)\n",
    "# Save concatenated embeddings for all-mpnet-base-v2\n",
    "# np.save('mpnet_model_embeddings.npy', train_embeddings_mpnet)\n",
    "print('Both sets of text embeddings saved successfully')\n",
    "\n",
    "# For future runs\n",
    "minilm_embeds = np.load('miniLM_model_embeddings.npy')\n",
    "mpnet_embeds = np.load('mpnet_model_embeddings.npy')\n",
    "\n",
    "# Concatenate them\n",
    "final_text_features = np.concatenate([minilm_embeds, mpnet_embeds], axis=1)\n",
    "# Save the concatenated embeddings\n",
    "np.save('ensemble_embeddings.npy', final_text_features)\n",
    "\n",
    "print(f\"Concatenated Text Feature Shape: {final_text_features.shape}\")\n",
    "print(f\"Total dimensionality of the text feature: {final_text_features.shape[1]}\")\n"
   ]
  },
  {
   "cell_type": "markdown",
   "id": "c45c04af-7b58-4a90-9465-786232d918f2",
   "metadata": {},
   "source": [
    "## Image Feature Extraction"
   ]
  },
  {
   "cell_type": "code",
   "execution_count": 43,
   "id": "701204df-8202-4127-bb17-0a16cd571d46",
   "metadata": {},
   "outputs": [
    {
     "name": "stdout",
     "output_type": "stream",
     "text": [
      "Starting threaded download of 72288 unique images with 64 workers...\n"
     ]
    },
    {
     "name": "stderr",
     "output_type": "stream",
     "text": [
      " 86%|████████▌ | 62058/72288 [00:02<00:00, 25197.53it/s]"
     ]
    },
    {
     "name": "stdout",
     "output_type": "stream",
     "text": [
      "Warning: Failed to download - https://m.media-amazon.com/images/I/51mjZYDYjyL.jpg (Error: HTTPError)\n"
     ]
    },
    {
     "name": "stderr",
     "output_type": "stream",
     "text": [
      "100%|██████████| 72288/72288 [00:03<00:00, 23295.22it/s]\n"
     ]
    },
    {
     "name": "stdout",
     "output_type": "stream",
     "text": [
      "Image download complete.\n",
      "Verified images on disk: 74999 / 75000\n"
     ]
    }
   ],
   "source": [
    "import os\n",
    "import requests\n",
    "import pandas as pd\n",
    "from tqdm import tqdm\n",
    "from pathlib import Path\n",
    "from concurrent.futures import ThreadPoolExecutor\n",
    "from functools import partial\n",
    "\n",
    "# --- Image Download Function ---\n",
    "def download_image_refined(image_link, savefolder):\n",
    "    if not isinstance(image_link, str) or not image_link.startswith('http'):\n",
    "        return\n",
    "\n",
    "    filename = Path(image_link).name\n",
    "    image_save_path = os.path.join(savefolder, filename)\n",
    "\n",
    "    if os.path.exists(image_save_path):\n",
    "        return\n",
    "\n",
    "    try:\n",
    "        # BEST PRACTICE: Use requests with timeout and stream=True for large files\n",
    "        response = requests.get(image_link, stream=True)\n",
    "        response.raise_for_status()  # Check for bad status code (4xx or 5xx)\n",
    "\n",
    "        with open(image_save_path, 'wb') as f:\n",
    "            for chunk in response.iter_content(chunk_size=8192):\n",
    "                f.write(chunk)\n",
    "                \n",
    "    except Exception as ex:\n",
    "        # Logging errors for debugging is cleaner\n",
    "        print(f'Warning: Failed to download - {image_link} (Error: {ex.__class__.__name__})')\n",
    "        # Clean up the potentially corrupted file fragment if download failed\n",
    "        if os.path.exists(image_save_path):\n",
    "            os.remove(image_save_path)\n",
    "            \n",
    "    return\n",
    "\n",
    "# --- Threaded Download Wrapper  ---\n",
    "def download_images_threaded(image_links, download_folder, max_workers=64): # Increased workers for faster I/O\n",
    "    if not os.path.exists(download_folder):\n",
    "        os.makedirs(download_folder)\n",
    "\n",
    "    # Use a set to only download unique links, saving time and disk space\n",
    "    unique_links = image_links.dropna().unique()\n",
    "\n",
    "    print(f\"Starting threaded download of {len(unique_links)} unique images with {max_workers} workers...\")\n",
    "    \n",
    "    with ThreadPoolExecutor(max_workers=max_workers) as executor:\n",
    "        # Use the refined function\n",
    "        list(tqdm(executor.map(partial(download_image_refined, savefolder=download_folder), unique_links), total=len(unique_links)))\n",
    "        \n",
    "    print(\"Image download complete.\")\n",
    "\n",
    "# --- Execution ---\n",
    "IMAGE_DIR = 'product_images'\n",
    "download_images_threaded(train_df['image_link'], IMAGE_DIR)\n",
    "\n",
    "# --- Map Local Paths Back to DataFrame ---\n",
    "def get_local_path(image_link, savefolder=IMAGE_DIR):\n",
    "    if pd.isna(image_link): return None\n",
    "    filename = Path(image_link).name\n",
    "    path = os.path.join(savefolder, filename)\n",
    "    return path if os.path.exists(path) else None\n",
    "\n",
    "train_df['image_path'] = train_df['image_link'].apply(get_local_path)\n",
    "successful_downloads = train_df['image_path'].notna().sum()\n",
    "print(f\"Verified images on disk: {successful_downloads} / {len(train_df)}\")"
   ]
  },
  {
   "cell_type": "markdown",
   "id": "28487508-d0dc-4043-af6b-842f275c9055",
   "metadata": {},
   "source": [
    "## Feature Extraction using ResNet50 Transfer Learning"
   ]
  },
  {
   "cell_type": "code",
   "execution_count": 45,
   "id": "80beb248-1b13-490a-b836-0eee47b92ad1",
   "metadata": {},
   "outputs": [
    {
     "name": "stdout",
     "output_type": "stream",
     "text": [
      "Using device for feature extraction: cpu\n"
     ]
    }
   ],
   "source": [
    "# Check for CUDA availability\n",
    "device = torch.device(\"cuda\" if torch.cuda.is_available() else \"cpu\")\n",
    "print(f\"Using device for feature extraction: {device}\")\n",
    "\n",
    "# 1. Load Pre-trained Model (ResNet50)\n",
    "model = models.resnet50(weights=models.ResNet50_Weights.IMAGENET1K_V2)\n",
    "\n",
    "# 2. Extract features by cutting off the final classification layer (Global Average Pooling is the last layer we keep)\n",
    "# The features vector size will be 2048\n",
    "model = torch.nn.Sequential(*(list(model.children())[:-1]))\n",
    "model.eval() # Set model to evaluation mode\n",
    "model.to(device)\n",
    "\n",
    "# 3. Define Image Preprocessing Pipeline\n",
    "preprocess = transforms.Compose([\n",
    "    transforms.Resize(256),\n",
    "    transforms.CenterCrop(224),\n",
    "    transforms.ToTensor(),\n",
    "    transforms.Normalize(mean=[0.485, 0.456, 0.406], std=[0.229, 0.224, 0.225])\n",
    "])"
   ]
  },
  {
   "cell_type": "code",
   "execution_count": 47,
   "id": "ae408051-1422-42bc-867a-147db91d5bfb",
   "metadata": {},
   "outputs": [
    {
     "name": "stdout",
     "output_type": "stream",
     "text": [
      "\n",
      "Starting image feature extraction (Transfer Learning)...\n",
      "Image features saved to 'train_image_features.npy'.\n"
     ]
    }
   ],
   "source": [
    "def extract_resnet_features(image_path, model, preprocess, device):\n",
    "    \"\"\"Loads, preprocesses, and extracts features for a single image.\"\"\"\n",
    "    if image_path is None: return None\n",
    "    try:\n",
    "        image = Image.open(image_path).convert('RGB')\n",
    "        img_tensor = preprocess(image)\n",
    "        img_tensor = img_tensor.unsqueeze(0).to(device)\n",
    "        \n",
    "        with torch.no_grad():\n",
    "            features = model(img_tensor)\n",
    "        \n",
    "        # Squeeze the feature tensor (e.g., 1x2048x1x1 -> 2048) and convert to NumPy\n",
    "        return features.squeeze().cpu().numpy()\n",
    "\n",
    "    except Exception as e:\n",
    "        # If the file exists but is corrupted/unreadable\n",
    "        return None\n",
    "\n",
    "print(\"\\nStarting image feature extraction (Transfer Learning)...\")\n",
    "\n",
    "# This portion is commented out to prevent re-execution\n",
    "'''\n",
    "# Extract features and handle missing data\n",
    "image_features_list = []\n",
    "for path in tqdm(train_df['image_path'], total=len(train_df)):\n",
    "    features = extract_resnet_features(path, model, preprocess, device)\n",
    "    image_features_list.append(features)\n",
    "\n",
    "# Determine the dimension (2048 for ResNet50)\n",
    "# Find the first valid feature to get the shape\n",
    "valid_features = [f for f in image_features_list if f is not None]\n",
    "\n",
    "if not valid_features:\n",
    "    raise Exception(\"Image extraction failed for all samples. Check downloads.\")\n",
    "    \n",
    "feature_dim = valid_features[0].shape[0]\n",
    "\n",
    "# Create the final feature matrix with imputation and the missingness indicator (Best Practice)\n",
    "final_image_features = np.zeros((len(train_df), feature_dim), dtype=np.float32)\n",
    "train_df['image_missing'] = 0 \n",
    "imputation_count = 0\n",
    "\n",
    "for i, features in enumerate(image_features_list):\n",
    "    if features is not None:\n",
    "        final_image_features[i] = features\n",
    "    else:\n",
    "        # 1. Impute with zeros\n",
    "        final_image_features[i] = np.zeros(feature_dim)\n",
    "        # 2. Set the missingness indicator flag (Highly predictive feature!)\n",
    "        train_df.loc[i, 'image_missing'] = 1\n",
    "        imputation_count += 1\n",
    "        \n",
    "print(f\"Image feature extraction complete. Missing features imputed: {imputation_count}\")\n",
    "print(f\"Final Image Feature Shape: {final_image_features.shape}\")\n",
    "\n",
    "# Save the final image features (BEST PRACTICE)\n",
    "np.save('train_image_features.npy', final_image_features)\n",
    "'''\n",
    "print(\"Image features saved to 'train_image_features.npy'.\")"
   ]
  },
  {
   "cell_type": "code",
   "execution_count": 49,
   "id": "29b29b1e-c35c-40dd-84c4-db0e36ef118e",
   "metadata": {},
   "outputs": [
    {
     "name": "stdout",
     "output_type": "stream",
     "text": [
      "Image features saved to 'train_image_features.npy'.\n"
     ]
    }
   ],
   "source": [
    "# After the image feature extraction has finished running\n",
    "#np.save('train_image_features.npy', final_image_features)\n",
    "print(\"Image features saved to 'train_image_features.npy'.\")\n",
    "\n",
    "# Later load them using:\n",
    "image_features = np.load('train_image_features.npy')"
   ]
  },
  {
   "cell_type": "code",
   "execution_count": 51,
   "id": "4bc99444-3997-43c6-a20b-506a71604839",
   "metadata": {},
   "outputs": [
    {
     "name": "stdout",
     "output_type": "stream",
     "text": [
      "Numerical features transformed and scaled using QuantileTransformer.\n",
      "    log_ipq  log_base_value\n",
      "0  0.726606        0.910873\n",
      "1  0.548158        0.421111\n",
      "2  0.726606       -0.337500\n",
      "3 -5.199338       -0.339521\n",
      "4  1.130517       -0.270485\n"
     ]
    }
   ],
   "source": [
    "# Apply Log transformation to handle skewness\n",
    "train_df['log_ipq'] = np.log1p(train_df['item_pack_quantity'])\n",
    "train_df['log_base_value'] = np.log1p(train_df['base_value'])\n",
    "\n",
    "# Select the final numerical features for scaling\n",
    "numerical_cols = ['log_ipq', 'log_base_value']\n",
    "\n",
    "# Initialize the QuantileTransformer\n",
    "# output_distribution='normal' is a common and powerful choice\n",
    "# n_quantiles=1000 ensures high precision (use max rows if less than 1000)\n",
    "qt_scaler = QuantileTransformer(output_distribution='normal', n_quantiles=1000, random_state=42)\n",
    "\n",
    "# Fit and transform the training data\n",
    "train_df[numerical_cols] = qt_scaler.fit_transform(train_df[numerical_cols])\n",
    "import joblib\n",
    "\n",
    "# Save the fitted QuantileTransformer object for use on the test set\n",
    "joblib.dump(qt_scaler, 'qt_scaler.pkl')\n",
    "\n",
    "print(\"Numerical features transformed and scaled using QuantileTransformer.\")\n",
    "print(train_df[numerical_cols].head())"
   ]
  },
  {
   "cell_type": "markdown",
   "id": "3fa83236-cd38-4ccf-987b-b5b84945f5f9",
   "metadata": {},
   "source": [
    "## Categorical Feature Encoding"
   ]
  },
  {
   "cell_type": "code",
   "execution_count": 53,
   "id": "52555913-008e-43d6-abf1-50188039ebd6",
   "metadata": {},
   "outputs": [
    {
     "name": "stdout",
     "output_type": "stream",
     "text": [
      "Base Unit binned feature successfully One-Hot Encoded.\n",
      "   unit_Count  unit_None  unit_Other  unit_Ounce/FlOz  unit_Pound\n",
      "0       False      False       False             True       False\n",
      "1       False      False       False             True       False\n",
      "2       False      False       False             True       False\n",
      "3       False      False       False             True       False\n",
      "4        True      False       False            False       False\n"
     ]
    }
   ],
   "source": [
    "# One-Hot Encode the binned base unit column\n",
    "base_unit_ohe = pd.get_dummies(train_df['base_unit_binned'], prefix='unit')\n",
    "\n",
    "print(\"Base Unit binned feature successfully One-Hot Encoded.\")\n",
    "print(base_unit_ohe.head())"
   ]
  },
  {
   "cell_type": "code",
   "execution_count": 55,
   "id": "788df43f-2e23-4ecd-90fe-004bfd805f14",
   "metadata": {},
   "outputs": [
    {
     "name": "stdout",
     "output_type": "stream",
     "text": [
      "\n",
      "Item Name has been Target Encoded.\n",
      "                                                                                                                                                   item_name  \\\n",
      "0                                                                                                    La Victoria Green Taco Sauce Mild, 12 Ounce (Pack of 6)   \n",
      "1                                                                                          Salerno Cookies, The Original Butter Cookies, 8 Ounce (Pack of 4)   \n",
      "2                                                                               Bear Creek Hearty Soup Bowl, Creamy Chicken with Rice, 1.9 Ounce (Pack of 6)   \n",
      "3  Judee’s Blue Cheese Powder 11.25 oz - Gluten-Free and Nut-Free - Use in Seasonings and Salad Dressings - Great for Dips, Spreads and Sauces - Made in USA   \n",
      "4                                                                                                       kedem Sherry Cooking Wine, 12.7 Ounce - 12 per case.   \n",
      "\n",
      "   item_name_encoded  \n",
      "0           1.773256  \n",
      "1           2.647592  \n",
      "2           1.088562  \n",
      "3           3.444895  \n",
      "4           4.211979  \n"
     ]
    }
   ],
   "source": [
    "# Target Encoding for 'item_name'\n",
    "# This uses full-data mean (risks leakage).\n",
    "\n",
    "name_to_target_map = train_df.groupby('item_name')['log_price'].mean()\n",
    "train_df['item_name_encoded'] = train_df['item_name'].map(name_to_target_map)\n",
    "\n",
    "# Fill any new/missing item names with the overall mean\n",
    "train_df['item_name_encoded'] = train_df['item_name_encoded'].fillna(train_df['log_price'].mean())\n",
    "\n",
    "print(\"\\nItem Name has been Target Encoded.\")\n",
    "print(train_df[['item_name', 'item_name_encoded']].head())"
   ]
  },
  {
   "cell_type": "code",
   "execution_count": 57,
   "id": "3eff10b7-f343-4632-9c75-0e8f7241e6d0",
   "metadata": {},
   "outputs": [
    {
     "name": "stdout",
     "output_type": "stream",
     "text": [
      "'name_to_target_map.pkl' successfully saved to disk.\n"
     ]
    }
   ],
   "source": [
    "import joblib\n",
    "\n",
    "# 1. Save the target encoding map from memory to disk\n",
    "joblib.dump(name_to_target_map, 'name_to_target_map.pkl')\n",
    "print(\"'name_to_target_map.pkl' successfully saved to disk.\")"
   ]
  },
  {
   "cell_type": "markdown",
   "id": "57eac340-e66d-4d52-a0a3-776025df59fd",
   "metadata": {},
   "source": [
    "# Model Fusion and Training"
   ]
  },
  {
   "cell_type": "code",
   "execution_count": 59,
   "id": "d4a03c0e-2be5-42a6-8c6a-1f3214c95676",
   "metadata": {},
   "outputs": [
    {
     "name": "stdout",
     "output_type": "stream",
     "text": [
      "'image_missing' column re-created on train_df.\n",
      "Re-calculated missing features imputed: 1\n"
     ]
    }
   ],
   "source": [
    "IMAGE_PATH_COL = 'image_path' # <--- Verify this column name!\n",
    "\n",
    "# --- Re-create the 'image_missing' flag ---\n",
    "# This replicates the logic: a missing path leads to a missing feature (1)\n",
    "# and a present path leads to a present feature (0).\n",
    "# We assume that the only way features were 'None' was if the image_path was Null/Invalid.\n",
    "\n",
    "# Check for Nulls/NaNs in the image path column and convert to integer (0 or 1)\n",
    "# 1 = Missing, 0 = Present\n",
    "train_df['image_missing'] = train_df[IMAGE_PATH_COL].isnull().astype(int)\n",
    "\n",
    "# Optional: Verify the count matches your previous output\n",
    "imputation_count = train_df['image_missing'].sum()\n",
    "print(f\"'image_missing' column re-created on train_df.\")\n",
    "print(f\"Re-calculated missing features imputed: {imputation_count}\")"
   ]
  },
  {
   "cell_type": "code",
   "execution_count": 61,
   "id": "214f3a1b-d1db-46e8-87d9-f65d4afabff2",
   "metadata": {},
   "outputs": [
    {
     "name": "stdout",
     "output_type": "stream",
     "text": [
      "Calculated and saved mean log price for test set imputation: 2.7392\n",
      "✅ Feature components loaded and prepared.\n",
      "Total features calculated: 3208\n"
     ]
    }
   ],
   "source": [
    "import pandas as pd\n",
    "import numpy as np\n",
    "import joblib\n",
    "from sklearn.model_selection import KFold # Required for the next step\n",
    "\n",
    "# --- 1. Load High-Dimensional Features from Disk (Mmap Mode) ---\n",
    "# Keep mmap_mode='r' to prevent RAM loading\n",
    "train_text_features = np.load('ensemble_embeddings.npy', mmap_mode='r') \n",
    "train_image_features = np.load('train_image_features.npy', mmap_mode='r') \n",
    "\n",
    "# --- 2. Extract and Combine Simple Features (No Target Encoding Leakage) ---\n",
    "\n",
    "# CRITICAL: We remove 'item_name_encoded' to fix the leakage.\n",
    "simple_features = train_df[[\n",
    "    'log_ipq', \n",
    "    'log_base_value', \n",
    "    'image_missing' \n",
    "]] \n",
    "\n",
    "# Combine the One-Hot Encoded units with the simple features\n",
    "# base_unit_ohe is defined (assuming it's a DataFrame)\n",
    "X_simple_no_te = pd.concat([simple_features, base_unit_ohe], axis=1).values \n",
    "\n",
    "# 3. Cast the Simple Features and Target to the final required type\n",
    "# This is the only array creation we do outside the loop.\n",
    "X_simple_base = X_simple_no_te.astype(np.float32)\n",
    "y_train = train_df['log_price'].values.astype(np.float32)\n",
    "\n",
    "# --- 4. PREPARE ALL COMPONENTS FOR FOLDING ---\n",
    "# We use a list to hold the components. Concatenation happens only on the smaller fold slices.\n",
    "# The component order defines the final feature order.\n",
    "X_components = [\n",
    "    X_simple_base,            # Simple features + OHE (NumPy array)\n",
    "    train_text_features,      # Mmap-mapped NumPy array\n",
    "    train_image_features      # Mmap-mapped NumPy array\n",
    "]\n",
    "\n",
    "# --- CRITICAL FIX: Calculate and Save Mean Log Price ---\n",
    "train_log_price_mean = train_df['log_price'].mean()\n",
    "joblib.dump(train_log_price_mean, 'train_log_price_mean.pkl') \n",
    "print(f\"Calculated and saved mean log price for test set imputation: {train_log_price_mean:.4f}\")\n",
    "\n",
    "# Calculate the total features without running np.concatenate\n",
    "total_features = sum(c.shape[1] for c in X_components)\n",
    "\n",
    "print(f\"✅ Feature components loaded and prepared.\")\n",
    "print(f\"Total features calculated: {total_features}\")"
   ]
  },
  {
   "cell_type": "code",
   "execution_count": 65,
   "id": "360b49ab-ee4c-43dd-9481-4892f358516b",
   "metadata": {
    "scrolled": true
   },
   "outputs": [
    {
     "name": "stdout",
     "output_type": "stream",
     "text": [
      "\n",
      "--- Starting Memory-Safe 5-Fold Ensemble Training  ---\n",
      "\n",
      "Training Fold 1...\n",
      "Fold 1 SMAPE (FINAL FIXED): 53.3451%\n",
      "\n",
      "Training Fold 2...\n",
      "Fold 2 SMAPE (FINAL FIXED): 52.2639%\n",
      "\n",
      "Training Fold 3...\n",
      "Fold 3 SMAPE (FINAL FIXED): 52.4590%\n",
      "\n",
      "Training Fold 4...\n",
      "Fold 4 SMAPE (FINAL FIXED): 51.6617%\n",
      "\n",
      "Training Fold 5...\n",
      "Fold 5 SMAPE (FINAL FIXED): 52.4803%\n",
      "\n",
      "✅ FINAL FIXED OOF SMAPE: 52.4420%\n"
     ]
    }
   ],
   "source": [
    "import numpy as np\n",
    "import pandas as pd\n",
    "import lightgbm as lgb\n",
    "import gc\n",
    "from sklearn.model_selection import KFold\n",
    "# Assume X_components, y_train, raw_names, train_log_price_mean are correctly defined.\n",
    "# Assume lgb_smape is correctly defined.\n",
    "\n",
    "def lgb_smape(y_pred, train_data): # Note the parameter names are standard for LightGBM\n",
    "    \"\"\"\n",
    "    Custom evaluation metric for LightGBM that calculates SMAPE.\n",
    "    NOTE: LightGBM passes the Dataset object (train_data) for true labels.\n",
    "    \"\"\"\n",
    "    # CRITICAL FIX: Extract true labels from the Dataset object\n",
    "    y_true = train_data.get_label()\n",
    "    \n",
    "    # Inverse transform to actual price scale (Price = exp(log_price) - 1)\n",
    "    y_true_price = np.expm1(y_true)\n",
    "    y_pred_price = np.expm1(y_pred)\n",
    "    \n",
    "    # Add a small epsilon for numerical stability\n",
    "    epsilon = 1e-6\n",
    "    \n",
    "    # Calculate SMAPE\n",
    "    numerator = np.abs(y_pred_price - y_true_price)\n",
    "    denominator = (np.abs(y_true_price) + np.abs(y_pred_price)) / 2 + epsilon\n",
    "    smape_value = np.mean(numerator / denominator) * 100\n",
    "    \n",
    "    # Return (eval_name, result, is_higher_better) - standard LightGBM format\n",
    "    return 'SMAPE', smape_value, False\n",
    "\n",
    "# Reduce n_estimators as a safety measure for the deadline\n",
    "lgb_params = {\n",
    "    'objective': 'regression_l1', 'n_estimators': 2000, 'learning_rate': 0.02, \n",
    "    'num_leaves': 100, 'lambda_l1': 0.5, 'lambda_l2': 0.5, 'verbose': -1, 'n_jobs': -1, 'seed': 42\n",
    "}\n",
    "\n",
    "final_models = []\n",
    "smape_scores = []\n",
    "kf = KFold(n_splits=5, shuffle=True, random_state=42) \n",
    "\n",
    "print(\"\\n--- Starting Memory-Safe 5-Fold Ensemble Training  ---\")\n",
    "\n",
    "\n",
    "# --- 2. Optimized Training Loop ---\n",
    "for fold, (train_index, val_index) in enumerate(kf.split(X_components[0], y_train)):\n",
    "    \n",
    "    print(f\"\\nTraining Fold {fold+1}...\")\n",
    "\n",
    "    # A. Dynamic Slicing and Target Encoding\n",
    "    train_parts = [c[train_index] for c in X_components]\n",
    "    val_parts = [c[val_index] for c in X_components]\n",
    "\n",
    "    # Target Encoding Fix\n",
    "    train_names_fold = train_df['item_name'].iloc[train_index]\n",
    "    val_names_fold = train_df['item_name'].iloc[val_index]\n",
    "    te_map = pd.Series(y_train[train_index], index=train_names_fold.index).groupby(train_names_fold).mean()\n",
    "    val_te_feature = val_names_fold.map(te_map).fillna(train_log_price_mean).values.astype(np.float32).reshape(-1, 1)\n",
    "    train_te_placeholder = np.zeros((len(train_index), 1), dtype=np.float32)\n",
    "\n",
    "    # B. ASSEMBLE FINAL ARRAYS (USE CONCATENATE ON SLICED DATA)\n",
    "    X_train_fold = np.concatenate(train_parts + [train_te_placeholder], axis=1)\n",
    "    X_val_fold = np.concatenate(val_parts + [val_te_feature], axis=1)\n",
    "    y_train_fold = y_train[train_index]\n",
    "    y_val_fold = y_train[val_index]\n",
    "\n",
    "    # --- C. LightGBM Dataset Creation (Using single array) ---\n",
    "    lgb_train = lgb.Dataset(\n",
    "        data=X_train_fold, \n",
    "        label=y_train_fold,\n",
    "    )\n",
    "    lgb_val = lgb.Dataset(\n",
    "        data=X_val_fold, \n",
    "        label=y_val_fold,\n",
    "        reference=lgb_train\n",
    "    )\n",
    "\n",
    "    # --- D. TRAIN MODEL (Corrected for all version TypeErrors) ---\n",
    "    model_lgb = lgb.train(\n",
    "        # Pass the standard L1 metric in params \n",
    "        params={**lgb_params, 'verbose': -1, 'metric': 'l1'}, \n",
    "        train_set=lgb_train,\n",
    "        valid_sets=[lgb_val],\n",
    "        valid_names=['validation'],\n",
    "        num_boost_round=lgb_params['n_estimators'],\n",
    "        \n",
    "        # Pass your custom SMAPE function via the 'feval' argument\n",
    "        feval=lgb_smape, \n",
    "        callbacks=[lgb.early_stopping(100, verbose=False)]\n",
    "    )\n",
    "    \n",
    "    final_models.append(model_lgb)\n",
    "    \n",
    "    # Predict and clean up\n",
    "    # NOTE: Predict on the single concatenated array\n",
    "    val_preds = model_lgb.predict(X_val_fold, num_iteration=model_lgb.best_iteration)\n",
    "    \n",
    "    # --- CRITICAL FIX: Inline SMAPE Calculation for NumPy Arrays ---\n",
    "    # 1. Inverse transform to actual price scale (y_true and y_pred are NumPy arrays here)\n",
    "    y_true_price = np.expm1(y_val_fold)\n",
    "    y_pred_price = np.expm1(val_preds)\n",
    "    \n",
    "    # 2. Calculate SMAPE directly\n",
    "    epsilon = 1e-6\n",
    "    numerator = np.abs(y_pred_price - y_true_price)\n",
    "    denominator = (np.abs(y_true_price) + np.abs(y_pred_price)) / 2 + epsilon\n",
    "    smape = np.mean(numerator / denominator) * 100\n",
    "    \n",
    "    smape_scores.append(smape)\n",
    "    print(f\"Fold {fold+1} SMAPE (FINAL FIXED): {smape:.4f}%\")\n",
    "    \n",
    "    # Explicit garbage collection to aid memory\n",
    "    del lgb_train, lgb_val, X_train_fold, X_val_fold, y_train_fold, y_val_fold \n",
    "    gc.collect()\n",
    "\n",
    "final_smape = np.mean(smape_scores)\n",
    "print(f\"\\n✅ FINAL FIXED OOF SMAPE: {final_smape:.4f}%\")"
   ]
  },
  {
   "cell_type": "code",
   "execution_count": 67,
   "id": "9e865290-37ac-4c4b-a992-4111ee2ff16c",
   "metadata": {},
   "outputs": [
    {
     "name": "stdout",
     "output_type": "stream",
     "text": [
      "\n",
      "Successfully saved 3 ensemble models to the 'final_ensemble_models' folder.\n"
     ]
    }
   ],
   "source": [
    "import joblib\n",
    "import os\n",
    "\n",
    "# Create a folder to store the models\n",
    "model_dir = 'final_ensemble_models'\n",
    "os.makedirs(model_dir, exist_ok=True)\n",
    "\n",
    "# Save each of the 3 trained models\n",
    "for i, model in enumerate(final_models):\n",
    "    joblib.dump(model, os.path.join(model_dir, f'lgbm_fold_{i+1}.pkl'))\n",
    "\n",
    "print(f\"\\nSuccessfully saved 3 ensemble models to the '{model_dir}' folder.\")"
   ]
  },
  {
   "cell_type": "markdown",
   "id": "04aad4f8-4537-434a-b82a-5f0caedca726",
   "metadata": {},
   "source": [
    "## Repeating the feature engineering steps for the Test Data"
   ]
  },
  {
   "cell_type": "code",
   "execution_count": 69,
   "id": "f45a0a57-8c3e-4438-b25f-55c569d71544",
   "metadata": {},
   "outputs": [
    {
     "name": "stdout",
     "output_type": "stream",
     "text": [
      "   sample_id  \\\n",
      "0     100179   \n",
      "1     245611   \n",
      "2     146263   \n",
      "3      95658   \n",
      "4      36806   \n",
      "\n",
      "                                                                                                                                                                                                                                                                                                                                                                                                                                                                                                                                                                                                                                                                                                                                                                                                                                                                                                                                                                                                                                                                                                                                                                                                                                                                                                                                                                                                                                                                                                                                                                                                                                                                                                                                                                                      catalog_content  \\\n",
      "0                                                                                                                                                                                                                                                                                                                                                                                                                                                                 Item Name: Rani 14-Spice Eshamaya's Mango Chutney (Indian Preserve) 10.5oz (300g) Glass Jar, Ready to eat, Vegan ~ Gluten Free, All Natural, NON-GMO\\nBullet Point 1: You'll LOVE our 14-Spice Eshamaya's Mango Chutney Chutney by Rani Brand--Here's Why:\\nBullet Point 2: 🥭All Natural, Non-GMO, No Preservatives, Gluten Free PREMIUM Gourmet Food Grade Chutney.\\nBullet Point 3: 🥭Authentic Family Rani Recipe. Rani is a USA based company selling Indian Foods for over 40 years, buy with confidence!\\nBullet Point 4: 🥭Great Spicy Taste, Awesome with Wine & Cheese! Packaged in a re-closeable glass jar\\nBullet Point 5: 🥭Net Wt. 10.5oz - Authentic Product of India\\nProduct Description: Mango chutney is made from diced green mangoes cooked with sugar. Spices are added to distinguish the different types of chutneys. Hot mango chutney is spiced with chilli powder which give the chutney heat and a deep amber color. Sweet Mango chutney allows the pallet to appreciate the flavor of the mango, adding a hint of vinegar for sourness, while major grey chutney mixes raisins, ginger powder, chilli powder and an array of spices to give complexity to the chutney. Try Rani Chutney's with pizza, salads, burgers, sandwiches, cheeses and anything else you can imagine!\\nValue: 10.5\\nUnit: Ounce\\n   \n",
      "1  Item Name: Natural MILK TEA Flavoring extract by HALO PANTRY (2oz bottle) | Perfect for customizing ANY baking, candy, dessert or drink recipes | Dairy Free, Dye-Free, Gluten Free, Zero Sugars, Zero Calories, Gourmet (Pack of 1)\\nBullet Point 1: Authentic Tasting, Asian-Inspired Natural flavorings made exclusively for use in any baking, cooking, dessert, candy, or drink recipes.\\nBullet Point 2: NATURAL : Gluten-Free, Dairy-Free, Zero Sugars, Zero Calories, Soy-Free, Sodium Free, GMO-Free, PG-Free, Oil-Free\\nBullet Point 3: No Colors, No Sweeteners, No Artificial Ingredients, No Preservatives\\nBullet Point 4: All ingredients & packaging sourced and made within the USA\\nBullet Point 5: Tastes like Brown Sugar bubble milk teas\\nBullet Point 6: new 2oz Professional Series bottle for frequent bakers and cooks.\\nProduct Description: Check our popular Milk Tea flavoring extract in a New larger bottle for use in any food or drink recipes. Perfect substitute for your average vanilla extract if you want to amplify the taste of your recipes. *HALO PANTRY is a premium line of Asian-inspired flavorings made exclusively for use in any baked goods, cooking, dessert, candy, or drink recipes. Our product line is very aromatic & flavorful to help enhance your recipes. The mission of HALO PANTRY brand is to make the DIY, at-home cooking/baking experience simple, fun, and to also encourage others to explore asian-inspired flavors. *Unlike other food flavoring products, Halo Pantry only adds flavors & does not alter or negatively impact the taste of your original recipe because it doesn't contain any sweeteners or other additives. With our product, you have complete control of your own recipes.\\nValue: 2.0\\nUnit: Fl Oz\\n   \n",
      "2                                                                                                                                                                                                                                                                                                                                                                                                                                                                                                                                                                                                                                                                                                                                                                                                                                                                                                                                                                                          Item Name: Honey Filled Hard Candy - Bulk Pack 2 Pounds - Individually Wrapped\\nBullet Point 1: Honey Filled Hard Candy; 2-pound bulk pack; approximately 180 pieces per order\\nBullet Point 2: Treat yourself to the soothing sweetness of candy that captures the essence of natural honey\\nBullet Point 3: Each piece is expertly crafted with a hard candy shell that gives way to a luscious, liquid honey center\\nBullet Point 4: Suitable for soothing a sore throat, sweetening a cup of tea, or simply enjoying as a sweet snack\\nBullet Point 5: Whether at home, in the office, or on the move, this candy will satisfy your sweet tooth and offer a moment of indulgence\\nProduct Description: Honey Filled Hard Candy - Bulk Pack 2 Pounds - Individually Wrapped\\nValue: 32.0\\nUnit: Ounce\\n   \n",
      "3                                                                                                                                                                                                                                                                                                                                                                                                                                                                                                                                                                                                                                                                                                                                                                                                                                                                                                                                                                                                                                                                                                                                                                                                                                                                                                                                                                                                                                                                                                                                                                                                                                                                                                               Item Name: Vlasic Snack'mm's Kosher Dill 16 Oz (Pack of 2)\\nValue: 2.0\\nUnit: Count\\n   \n",
      "4                                                                                                                                                                                                                                         Item Name: McCormick Culinary Vanilla Extract, 32 fl oz - One 32 Fluid Ounce Container of Gluten Free and Non-GMO Pure Vanilla Extract Made From Premium Vanilla Beans Perfect for Chefs & Home Bakers\\nBullet Point 1: PREMIUM INGREDIENTS: McCormick Culinary Pure Vanilla Extract delivers delightfully satisfying flavor and features a dark brown color; created especially for chefs, this vanilla extract is highly fragrant with unrivaled performance in a ready-to-use format\\nBullet Point 2: RICH VANILLA FLAVOR: With its caramelized, rich, bourbon-rummy flavor notes, McCormick Culinary vanilla extract helps complement and intensify other flavors in inventive recipes\\nBullet Point 3: EASE OF USE: Our 32-ounce size is perfect for dispensing individual drops of vanilla extract, and you can easily unscrew the convenient flip top to add larger amounts to any large recipe; you can buy these 32-ounce bottles individually or in bulk\\nBullet Point 4: MENU VERSATILITY: McCormick Culinary Pure Vanilla Extract gives sweet, rich flavor to a wide variety of dishes and desserts; this pure vanilla extract tastes great in any beverage or sweet baked good and helps draw the acidity out of foods like lemons\\nBullet Point 5: NATURAL INGREDIENTS: McCormick Culinary Pure Vanilla Extract is kosher and non-GMO, so you can feel comfortable using it in all of your favorite recipes; this vanilla extract contains no added sugar for a pure and balanced flavor your customers will love\\nValue: 32.0\\nUnit: Fl Oz\\n   \n",
      "\n",
      "                                            image_link  \n",
      "0  https://m.media-amazon.com/images/I/71hoAn78AWL.jpg  \n",
      "1  https://m.media-amazon.com/images/I/61ex8NHCIjL.jpg  \n",
      "2  https://m.media-amazon.com/images/I/61KCM61J8eL.jpg  \n",
      "3  https://m.media-amazon.com/images/I/51Ex6uOH7yL.jpg  \n",
      "4  https://m.media-amazon.com/images/I/71QYlrOMoSL.jpg  \n"
     ]
    }
   ],
   "source": [
    "test_df = pd.read_csv(\"dataset/test.csv\")\n",
    "print(test_df.head())"
   ]
  },
  {
   "cell_type": "markdown",
   "id": "0a1d148c-e263-4193-9e56-07e28fc99197",
   "metadata": {},
   "source": [
    "# Test Set Feature Engineering Pipeline"
   ]
  },
  {
   "cell_type": "code",
   "execution_count": 71,
   "id": "11fe5691-d4a7-4721-8773-613c952fa212",
   "metadata": {},
   "outputs": [
    {
     "name": "stdout",
     "output_type": "stream",
     "text": [
      "\n",
      "--- Starting Test Data Feature Transformation ---\n",
      "All required non-embedding feature steps completed on test_df.\n"
     ]
    }
   ],
   "source": [
    "\n",
    "\n",
    "#  FEATURE PARSING FUNCTIONS\n",
    "\n",
    "\n",
    "# 1. Catalog Content Cleaning (Handles Emojis/Non-ASCII for robust parsing)\n",
    "def clean_catalog_content(text):\n",
    "    \"\"\"Removes emojis/non-ASCII chars and cleans up whitespace.\"\"\"\n",
    "    if pd.isna(text):\n",
    "        return \"\"\n",
    "    text = str(text)\n",
    "    # Remove Emojis and non-ASCII characters\n",
    "    text = text.encode('ascii', 'ignore').decode('ascii')\n",
    "    # Clean up common delimiters/whitespace\n",
    "    text = re.sub(r'[\\n\\r]+', ' ', text)\n",
    "    text = re.sub(r'\\s+', ' ', text).strip()\n",
    "    return text\n",
    "\n",
    "\n",
    "# 2. Extract Item Name (Must use cleaned content for robustness)\n",
    "def extract_item_name(text):\n",
    "    \"\"\"Extracts the Item Name from cleaned content.\"\"\"\n",
    "    if pd.isna(text):\n",
    "        return None\n",
    "    text = str(text)\n",
    "    match = re.search(r'Item Name: (.*)', text, re.IGNORECASE | re.DOTALL)\n",
    "    if match:\n",
    "        full_string = match.group(1)\n",
    "        item_name = full_string.split('\\n')[0].strip()\n",
    "        return item_name.rstrip(',')\n",
    "    return None\n",
    "\n",
    "# 3. Extract Base Value\n",
    "def extract_base_value(text):\n",
    "    \"\"\"Extracts the numerical 'Value' field from cleaned content.\"\"\"\n",
    "    match = re.search(r'Value: ([\\d.]+)', str(text))\n",
    "    if match:\n",
    "        try:\n",
    "            return float(match.group(1))\n",
    "        except ValueError:\n",
    "            return None\n",
    "    return None\n",
    "\n",
    "# 4. Extract Base Unit\n",
    "def extract_base_unit(text):\n",
    "    \"\"\"Extracts the categorical 'Unit' field from cleaned content.\"\"\"\n",
    "    match = re.search(r'Unit: (\\w+)', str(text))\n",
    "    if match:\n",
    "        return match.group(1).strip()\n",
    "    return 'Unknown'\n",
    "\n",
    "# 5. Extract Item Pack Quantity (IPQ)\n",
    "IPQ_PATTERN = r'(\\d+)\\s*(?:per\\s*case|per\\s*pack)|(?:pack of|per\\s*case)\\s*(\\d+)|(\\d+)\\s*\\b(?:pack|count|pcs|ct|case|box)\\b'\n",
    "def extract_ipq(text):\n",
    "    \"\"\"Extracts the number of items/quantity, defaulting to 1.\"\"\"\n",
    "    if pd.isna(text): return 1\n",
    "    text = str(text).lower()\n",
    "    matches = re.findall(IPQ_PATTERN, text)\n",
    "    max_ipq = 1\n",
    "    for m in matches:\n",
    "        for num_str in m:\n",
    "            if num_str:\n",
    "                try:\n",
    "                    num = int(num_str)\n",
    "                    if num > max_ipq:\n",
    "                        max_ipq = num\n",
    "                except ValueError:\n",
    "                    continue\n",
    "    return max_ipq\n",
    "\n",
    "# 6. Robust Unit Normalization\n",
    "def normalize_unit(unit):\n",
    "    if pd.isna(unit): return 'Unknown'\n",
    "    unit = unit.lower().strip()\n",
    "    if unit in ['oz', 'ounce', 'fl oz', 'fl', 'fluid']: return 'Ounce/FlOz'\n",
    "    if unit in ['lb', 'pound', 'pounds', 'lbs']: return 'Pound'\n",
    "    if unit in ['g', 'gram', 'grams']: return 'Gram'\n",
    "    if unit in ['l', 'liter', 'quart']: return 'Liter'\n",
    "    if unit in ['ml', 'millilitre', 'milliliter']: return 'Milliliter'\n",
    "    if unit in ['count', 'ct', 'pcs', 'ea', 'pac', 'packet', 'pk', 'pack']: return 'Count'\n",
    "    if unit == 'none': return 'None'\n",
    "    return unit\n",
    "\n",
    "# 7. Deep Text Cleaning for Transformer Input\n",
    "def clean_text(text):\n",
    "    \"\"\"Cleans text for Transformer input by normalizing and removing noise.\"\"\"\n",
    "    if pd.isna(text): return \"\"\n",
    "    text = str(text).lower()\n",
    "    text = text.replace('\\n', ' ')\n",
    "    text = re.sub(r'[^a-z0-9\\s.,?!:;\\'\"()_]', ' ', text)\n",
    "    text = re.sub(r'\\s+', ' ', text).strip()\n",
    "    return text\n",
    "\n",
    "\n",
    "\n",
    "#   EXECUTION ON TEST DATA\n",
    "\n",
    "print(\"\\n--- Starting Test Data Feature Transformation ---\")\n",
    "\n",
    "# A. Initial Cleaning\n",
    "test_df['catalog_content_cleaned'] = test_df['catalog_content'].apply(clean_catalog_content)\n",
    "\n",
    "# B. Feature Extraction and Normalization (Using CLEANED content)\n",
    "test_df['item_name'] = test_df['catalog_content_cleaned'].apply(extract_item_name)\n",
    "test_df['base_value'] = test_df['catalog_content_cleaned'].apply(extract_base_value)\n",
    "test_df['item_pack_quantity'] = test_df['catalog_content_cleaned'].apply(extract_ipq)\n",
    "test_df['base_unit'] = test_df['catalog_content_cleaned'].apply(extract_base_unit)\n",
    "test_df['base_unit'] = test_df['base_unit'].apply(normalize_unit)\n",
    "\n",
    "# C. Unit Binning (CRITICAL: Uses Training Artifact)\n",
    "test_df['base_unit_binned'] = test_df['base_unit'].apply(\n",
    "    # Uses the set derived from the CORRECTED TRAINING data binning\n",
    "    lambda x: 'Other' if x in low_frequency_units else x\n",
    ")\n",
    "# One-Hot Encoding for this column must be performed later, ensuring columns align with the training set.\n",
    "\n",
    "\n",
    "# D. Target Encoding (CRITICAL: Uses Training Artifact)\n",
    "# The full target encoding map should be calculated using the entire y_train\n",
    "# This map is safe for the test set.\n",
    "\n",
    "# Assuming train_df_raw is the original, full training DataFrame\n",
    "# Assuming y_train is the final, full target array (log_price)\n",
    "\n",
    "# 1. Calculate the full, safe map using the entire training set\n",
    "# NOTE: We assume 'raw_names' from the training setup is still available, or we use train_df_raw['item_name']\n",
    "raw_names_train = train_df['item_name'] \n",
    "full_te_map = raw_names_train.map(pd.Series(y_train, index=raw_names_train.index)).groupby(raw_names_train).mean()\n",
    "\n",
    "# 2. Apply the map to the test set\n",
    "test_df['item_name_encoded'] = test_df['item_name'].map(full_te_map)\n",
    "\n",
    "# 3. Fill new/missing items with the overall mean log_price from the TRAINING data\n",
    "# (train_log_price_mean was saved earlier)\n",
    "test_df['item_name_encoded'] = test_df['item_name_encoded'].fillna(train_log_price_mean)\n",
    "\n",
    "\n",
    "# E. Numerical Scaling (CRITICAL: Uses Training Artifact)\n",
    "# Log transformation\n",
    "test_df['log_ipq'] = np.log1p(test_df['item_pack_quantity'].fillna(0)) \n",
    "test_df['log_base_value'] = np.log1p(test_df['base_value'].fillna(0)) \n",
    "\n",
    "# Final scaling using the fitted QuantileTransformer\n",
    "numerical_cols = ['log_ipq', 'log_base_value']\n",
    "qt_scaler = joblib.load('qt_scaler.pkl')\n",
    "test_df[numerical_cols] = qt_scaler.transform(test_df[numerical_cols])\n",
    "\n",
    "\n",
    "# F. Text Input for Embeddings\n",
    "test_df['clean_catalog_content'] = test_df['catalog_content'].apply(clean_text)\n",
    "\n",
    "print(\"All required non-embedding feature steps completed on test_df.\")"
   ]
  },
  {
   "cell_type": "markdown",
   "id": "64428bd4-202a-432c-8331-1f05c3d49db5",
   "metadata": {},
   "source": [
    "## Generate Embeddings for Text & Image"
   ]
  },
  {
   "cell_type": "code",
   "execution_count": 114,
   "id": "79a515cc-9822-4359-8ea1-cf2168a035be",
   "metadata": {},
   "outputs": [
    {
     "name": "stdout",
     "output_type": "stream",
     "text": [
      "Loading Sentence Transformer model: all-MiniLM-L6-v2...\n",
      "\n",
      "--- Generating Text Embeddings for TEST Set (NLP) ---\n",
      "Converting text data into high-dimensional numerical vectors...\n"
     ]
    },
    {
     "data": {
      "application/vnd.jupyter.widget-view+json": {
       "model_id": "2bf0cb40bd064c57901dd24c0d0e8615",
       "version_major": 2,
       "version_minor": 0
      },
      "text/plain": [
       "Batches:   0%|          | 0/2344 [00:00<?, ?it/s]"
      ]
     },
     "metadata": {},
     "output_type": "display_data"
    },
    {
     "name": "stdout",
     "output_type": "stream",
     "text": [
      "\n",
      "Text embeddings generated successfully for the TEST set.\n",
      "Shape of test embeddings: (75000, 384)\n",
      "Text features saved to 'test_text_features.npy'\n"
     ]
    }
   ],
   "source": [
    "\n",
    "# We'll use the 'all-MiniLM-L6-v2' model for efficiency and performance\n",
    "model_name = 'all-MiniLM-L6-v2' \n",
    "\n",
    "print(f\"Loading Sentence Transformer model: {model_name}...\")\n",
    "#  Load the model in memory (same as training)\n",
    "model = SentenceTransformer(model_name)\n",
    "\n",
    "#  Use the CLEANED text column from the TEST DataFrame\n",
    "text_data_test = test_df['clean_catalog_content'].tolist()\n",
    "\n",
    "print(\"\\n--- Generating Text Embeddings for TEST Set (NLP) ---\")\n",
    "print(\"Converting text data into high-dimensional numerical vectors...\")\n",
    "\n",
    "# Encode the text data. This is a resource-intensive step.\n",
    "test_text_features = model.encode(text_data_test, \n",
    "                                  show_progress_bar=True, \n",
    "                                  convert_to_numpy=True,\n",
    "                                  batch_size=32) # Use the same batch size\n",
    "\n",
    "embedding_dim = test_text_features.shape[1]\n",
    "\n",
    "print(f\"\\nText embeddings generated successfully for the TEST set.\")\n",
    "print(f\"Shape of test embeddings: {test_text_features.shape}\")\n",
    "\n",
    "# Save the test embeddings for later concatenation\n",
    "np.save('test_text_features.npy', test_text_features)\n",
    "print(\"Text features saved to 'test_text_features.npy'\")"
   ]
  },
  {
   "cell_type": "code",
   "execution_count": 116,
   "id": "024f5c61-5379-4628-9d9f-893eb01c9e39",
   "metadata": {},
   "outputs": [
    {
     "name": "stdout",
     "output_type": "stream",
     "text": [
      "Loading Sentence Transformer model: all-mpnet-base-v2...\n",
      "\n",
      "--- Generating Second Text Embeddings for TEST Set (MPNet) ---\n",
      "Converting text data into high-dimensional numerical vectors...\n"
     ]
    },
    {
     "data": {
      "application/vnd.jupyter.widget-view+json": {
       "model_id": "929cb1eea48e44d3ac317806daf5b554",
       "version_major": 2,
       "version_minor": 0
      },
      "text/plain": [
       "Batches:   0%|          | 0/2344 [00:00<?, ?it/s]"
      ]
     },
     "metadata": {},
     "output_type": "display_data"
    },
    {
     "name": "stdout",
     "output_type": "stream",
     "text": [
      "\n",
      "MPNet embeddings generated successfully for the TEST set.\n",
      "Shape of MPNet test embeddings: (75000, 768)\n",
      "Each product's description is now represented by a 768-dimensional vector.\n",
      "MPNet features saved to 'test_mpnet_features.npy'\n"
     ]
    }
   ],
   "source": [
    "\n",
    "# We'll use the 'all-mpnet-base-v2' model now for richer semantic understanding\n",
    "model_name = 'all-mpnet-base-v2' \n",
    "\n",
    "print(f\"Loading Sentence Transformer model: {model_name}...\")\n",
    "# CRITICAL: Load the model in memory (same as training)\n",
    "model_mpnet = SentenceTransformer(model_name)\n",
    "\n",
    "# CRITICAL: Use the CLEANED text column from the TEST DataFrame\n",
    "text_data_test = test_df['clean_catalog_content'].tolist()\n",
    "\n",
    "print(\"\\n--- Generating Second Text Embeddings for TEST Set (MPNet) ---\")\n",
    "print(\"Converting text data into high-dimensional numerical vectors...\")\n",
    "\n",
    "# Encode the text data. This is a resource-intensive step.\n",
    "test_embeddings_mpnet = model_mpnet.encode(text_data_test, \n",
    "                                           show_progress_bar=True, \n",
    "                                           convert_to_numpy=True,\n",
    "                                           batch_size=32) # Use the same batch size\n",
    "\n",
    "embedding_dim_mpnet = test_embeddings_mpnet.shape[1]\n",
    "\n",
    "print(f\"\\nMPNet embeddings generated successfully for the TEST set.\")\n",
    "print(f\"Shape of MPNet test embeddings: {test_embeddings_mpnet.shape}\")\n",
    "print(f\"Each product's description is now represented by a {embedding_dim_mpnet}-dimensional vector.\")\n",
    "\n",
    "# FINAL STEP: Save the MPNet test embeddings \n",
    "np.save('test_mpnet_features.npy', test_embeddings_mpnet)\n",
    "print(\"MPNet features saved to 'test_mpnet_features.npy'\")"
   ]
  },
  {
   "cell_type": "code",
   "execution_count": 73,
   "id": "e96bc9dd-8663-48c8-9241-c02e2434ead7",
   "metadata": {},
   "outputs": [
    {
     "name": "stdout",
     "output_type": "stream",
     "text": [
      "Concatenated Test Text Feature Shape: (75000, 1152)\n",
      "Total dimensionality of the test text feature: 1152\n"
     ]
    }
   ],
   "source": [
    "import numpy as np\n",
    "\n",
    "# --- Load the individual test embeddings ---\n",
    "\n",
    "minilm_embeds_test = np.load('test_text_features.npy') \n",
    "mpnet_embeds_test = np.load('test_mpnet_features.npy') \n",
    "\n",
    "# --- Concatenate them horizontally (axis=1) ---\n",
    "final_text_features_test = np.concatenate([minilm_embeds_test, mpnet_embeds_test], axis=1)\n",
    "\n",
    "# --- Save the concatenated embeddings for the final X_test matrix creation ---\n",
    "np.save('ensemble_embeddings_test.npy', final_text_features_test)\n",
    "\n",
    "print(f\"Concatenated Test Text Feature Shape: {final_text_features_test.shape}\")\n",
    "print(f\"Total dimensionality of the test text feature: {final_text_features_test.shape[1]}\")"
   ]
  },
  {
   "cell_type": "code",
   "execution_count": 75,
   "id": "6770740b-3ada-4789-856f-65388d73107f",
   "metadata": {},
   "outputs": [
    {
     "name": "stdout",
     "output_type": "stream",
     "text": [
      "Starting threaded download of 72222 unique images with 64 workers...\n"
     ]
    },
    {
     "name": "stderr",
     "output_type": "stream",
     "text": [
      "100%|██████████| 72222/72222 [00:02<00:00, 25380.21it/s]"
     ]
    },
    {
     "name": "stdout",
     "output_type": "stream",
     "text": [
      "Warning: Failed to download - https://m.media-amazon.com/images/I/813CjSgHj0S.jpg (Error: HTTPError)\n",
      "Image download complete.\n"
     ]
    },
    {
     "name": "stderr",
     "output_type": "stream",
     "text": [
      "\n"
     ]
    },
    {
     "name": "stdout",
     "output_type": "stream",
     "text": [
      "Verified images on disk for TEST set: 74999 / 75000\n"
     ]
    }
   ],
   "source": [
    "from tqdm import tqdm\n",
    "from pathlib import Path\n",
    "from concurrent.futures import ThreadPoolExecutor\n",
    "from functools import partial\n",
    "\n",
    "# --- Image Download Function  ---\n",
    "def download_image_refined(image_link, savefolder):\n",
    "    if not isinstance(image_link, str) or not image_link.startswith('http'):\n",
    "        return\n",
    "\n",
    "    filename = Path(image_link).name\n",
    "    image_save_path = os.path.join(savefolder, filename)\n",
    "\n",
    "    if os.path.exists(image_save_path):\n",
    "        return\n",
    "\n",
    "    try:\n",
    "        response = requests.get(image_link, stream=True) # Added a timeout for robustness\n",
    "        response.raise_for_status()\n",
    "\n",
    "        with open(image_save_path, 'wb') as f:\n",
    "            for chunk in response.iter_content(chunk_size=8192):\n",
    "                f.write(chunk)\n",
    "                \n",
    "    except Exception as ex:\n",
    "        # Logging errors for debugging is cleaner\n",
    "        print(f'Warning: Failed to download - {image_link} (Error: {ex.__class__.__name__})')\n",
    "        if os.path.exists(image_save_path):\n",
    "            os.remove(image_save_path)\n",
    "            \n",
    "    return\n",
    "\n",
    "# --- Threaded Download Wrapper ---\n",
    "def download_images_threaded(image_links, download_folder, max_workers=64):\n",
    "    if not os.path.exists(download_folder):\n",
    "        os.makedirs(download_folder)\n",
    "\n",
    "    # Use a set to only download unique links, saving time and disk space\n",
    "    unique_links = image_links.dropna().unique()\n",
    "\n",
    "    print(f\"Starting threaded download of {len(unique_links)} unique images with {max_workers} workers...\")\n",
    "    \n",
    "    with ThreadPoolExecutor(max_workers=max_workers) as executor:\n",
    "        list(tqdm(executor.map(partial(download_image_refined, savefolder=download_folder), unique_links), total=len(unique_links)))\n",
    "        \n",
    "    print(\"Image download complete.\")\n",
    "\n",
    "# --- Path Mapping Function ---\n",
    "def get_local_path(image_link, savefolder): # Modified to accept savefolder argument\n",
    "    if pd.isna(image_link): return None\n",
    "    filename = Path(image_link).name\n",
    "    path = os.path.join(savefolder, filename)\n",
    "    return path if os.path.exists(path) else None\n",
    "\n",
    "\n",
    "\n",
    "#   EXECUTION ON test_df\n",
    "\n",
    "IMAGE_DIR_TEST = 'product_images' # Reusing the directory name is often simplest\n",
    "\n",
    "# 1. Execute the threaded download on the test_df links\n",
    "download_images_threaded(test_df['image_link'], IMAGE_DIR_TEST)\n",
    "\n",
    "# 2. Map Local Paths Back to Test DataFrame\n",
    "test_df['image_path'] = test_df['image_link'].apply(partial(get_local_path, savefolder=IMAGE_DIR_TEST))\n",
    "\n",
    "# 3. Create the 'image_missing' flag (needed for X_test matrix)\n",
    "test_df['image_missing'] = test_df['image_path'].isna()\n",
    "\n",
    "successful_downloads = test_df['image_path'].notna().sum()\n",
    "print(f\"Verified images on disk for TEST set: {successful_downloads} / {len(test_df)}\")"
   ]
  },
  {
   "cell_type": "code",
   "execution_count": 133,
   "id": "3027ba12-cfdd-40e8-ad8f-d7ab5199e5b3",
   "metadata": {},
   "outputs": [
    {
     "name": "stdout",
     "output_type": "stream",
     "text": [
      "Using device for feature extraction: cpu\n",
      "\n",
      "--- Generating Image Embeddings for TEST Set ---\n"
     ]
    },
    {
     "name": "stderr",
     "output_type": "stream",
     "text": [
      "Extracting Test Features:  47%|████▋     | 35079/75000 [2:02:04<2:30:54,  4.41it/s]IOPub message rate exceeded.\n",
      "The Jupyter server will temporarily stop sending output\n",
      "to the client in order to avoid crashing it.\n",
      "To change this limit, set the config variable\n",
      "`--ServerApp.iopub_msg_rate_limit`.\n",
      "\n",
      "Current values:\n",
      "ServerApp.iopub_msg_rate_limit=1000.0 (msgs/sec)\n",
      "ServerApp.rate_limit_window=3.0 (secs)\n",
      "\n",
      "Extracting Test Features: 100%|██████████| 75000/75000 [6:20:06<00:00,  3.29it/s]     \n"
     ]
    },
    {
     "name": "stdout",
     "output_type": "stream",
     "text": [
      "\n",
      "Image embeddings generated successfully for the TEST set.\n",
      "Shape of test image features: (75000, 2048)\n",
      "Image features saved to 'test_image_features.npy'\n"
     ]
    }
   ],
   "source": [
    "import torch\n",
    "import torch.nn as nn\n",
    "\n",
    "# --- I. Model and Preprocessing Setup  ---\n",
    "\n",
    "print(\"Using device for feature extraction: cpu\")\n",
    "\n",
    "# 1. Load Pre-trained Model (ResNet50)\n",
    "model = models.resnet50(weights=models.ResNet50_Weights.IMAGENET1K_V2)\n",
    "\n",
    "# 2. Extract features by cutting off the final classification layer\n",
    "# The features vector size will be 2048\n",
    "model = torch.nn.Sequential(*(list(model.children())[:-1]))\n",
    "model.eval() # Set model to evaluation mode\n",
    "model.to(device)\n",
    "\n",
    "# 3. Define Image Preprocessing Pipeline\n",
    "preprocess = transforms.Compose([\n",
    "    transforms.Resize(256),\n",
    "    transforms.CenterCrop(224),\n",
    "    transforms.ToTensor(),\n",
    "    transforms.Normalize(mean=[0.485, 0.456, 0.406], std=[0.229, 0.224, 0.225])\n",
    "])\n",
    "\n",
    "# --- II. Feature Extraction Function ---\n",
    "\n",
    "def extract_image_features(image_path, model, preprocess, device):\n",
    "    \"\"\"Loads, preprocesses an image, and extracts features.\"\"\"\n",
    "    if image_path is None or not os.path.exists(image_path):\n",
    "        # Return a zero vector for missing images\n",
    "        return np.zeros(2048, dtype=np.float32)\n",
    "\n",
    "    try:\n",
    "        img = Image.open(image_path).convert('RGB')\n",
    "        img_tensor = preprocess(img).unsqueeze(0).to(device)\n",
    "\n",
    "        with torch.no_grad():\n",
    "            features = model(img_tensor).squeeze().cpu().numpy()\n",
    "        \n",
    "        # Features are a 2048-dimensional vector after squeeze and flatten\n",
    "        return features\n",
    "\n",
    "    except Exception as e:\n",
    "        # Return a zero vector if loading or processing fails\n",
    "        # print(f\"Error processing image {image_path}: {e}\")\n",
    "        return np.zeros(2048, dtype=np.float32)\n",
    "\n",
    "# --- III. Execution on test_df ---\n",
    "\n",
    "print(\"\\n--- Generating Image Embeddings for TEST Set ---\")\n",
    "\n",
    "# Use the 'image_path' column created in the test_df\n",
    "test_image_paths = test_df['image_path'].tolist()\n",
    "\n",
    "# Apply the feature extraction to all test images\n",
    "# Using a list comprehension is clean and efficient for feature extraction\n",
    "test_image_features_list = [\n",
    "    extract_image_features(path, model, preprocess, device) \n",
    "    for path in tqdm(test_image_paths, desc=\"Extracting Test Features\")\n",
    "]\n",
    "\n",
    "test_image_features = np.array(test_image_features_list)\n",
    "\n",
    "print(f\"\\nImage embeddings generated successfully for the TEST set.\")\n",
    "print(f\"Shape of test image features: {test_image_features.shape}\")\n",
    "\n",
    "# FINAL STEP: Save the image embeddings for later concatenation\n",
    "np.save('test_image_features.npy', test_image_features)\n",
    "print(\"Image features saved to 'test_image_features.npy'\")"
   ]
  },
  {
   "cell_type": "markdown",
   "id": "4ac2a851-f15b-4ef1-adcd-97b76698ea71",
   "metadata": {},
   "source": [
    "## Creates image_missing flag without downloading images again"
   ]
  },
  {
   "cell_type": "code",
   "execution_count": 77,
   "id": "48f3d035-f076-41f7-b2ff-b4a4c7d13187",
   "metadata": {},
   "outputs": [
    {
     "name": "stdout",
     "output_type": "stream",
     "text": [
      "Verified images on disk and paths mapped for TEST set: 74999 / 75000\n"
     ]
    }
   ],
   "source": [
    "from functools import partial\n",
    "\n",
    "# Assuming IMAGE_DIR_TEST is still defined from your previous setup\n",
    "IMAGE_DIR_TEST = 'product_images' # Ensure this matches your download directory\n",
    "\n",
    "# --- Path Mapping Function (Needed to run the partial) ---\n",
    "def get_local_path(image_link, savefolder):\n",
    "    if pd.isna(image_link): return None\n",
    "    filename = Path(image_link).name\n",
    "    path = os.path.join(savefolder, filename)\n",
    "    # CRITICAL: This checks if the file actually exists where it should be\n",
    "    return path if os.path.exists(path) else None\n",
    "\n",
    "# 1. Map Local Paths Back to Test DataFrame\n",
    "test_df['image_path'] = test_df['image_link'].apply(partial(get_local_path, savefolder=IMAGE_DIR_TEST))\n",
    "\n",
    "# 2. Create the 'image_missing' flag (needed for X_test matrix)\n",
    "# YES, you must keep this flag as it is a crucial feature in your simple feature matrix.\n",
    "test_df['image_missing'] = test_df['image_path'].isna()\n",
    "\n",
    "successful_downloads = test_df['image_path'].notna().sum()\n",
    "print(f\"Verified images on disk and paths mapped for TEST set: {successful_downloads} / {len(test_df)}\")"
   ]
  },
  {
   "cell_type": "markdown",
   "id": "bad5486d-52d0-4760-8162-4ee6c63b0950",
   "metadata": {},
   "source": [
    "## Final Feature Assembly"
   ]
  },
  {
   "cell_type": "code",
   "execution_count": 79,
   "id": "9419827d-5ebb-486e-a1ea-9a5503927069",
   "metadata": {},
   "outputs": [
    {
     "name": "stdout",
     "output_type": "stream",
     "text": [
      "OHE features created and aligned with training set.\n",
      "Test OHE Shape: (75000, 5)\n"
     ]
    }
   ],
   "source": [
    "\n",
    "training_categories = train_df['base_unit_binned'].unique()\n",
    "\n",
    "\n",
    "# 1. Apply OHE to the test set\n",
    "test_base_unit_ohe = pd.get_dummies(\n",
    "    test_df['base_unit_binned'],\n",
    "    prefix='unit'\n",
    ")\n",
    "\n",
    "# 2. Reindex the test OHE features to match the exact categories from training\n",
    "test_base_unit_ohe = test_base_unit_ohe.reindex(\n",
    "    columns=[f'unit_{cat}' for cat in training_categories], \n",
    "    fill_value=False # Use False or 0, depending on how your model handles boolean features\n",
    ")\n",
    "# Note: Converting boolean to int (1/0) is safer for LightGBM if not handled automatically\n",
    "test_base_unit_ohe = test_base_unit_ohe.astype(int)\n",
    "\n",
    "print(\"OHE features created and aligned with training set.\")\n",
    "print(f\"Test OHE Shape: {test_base_unit_ohe.shape}\")"
   ]
  },
  {
   "cell_type": "code",
   "execution_count": 81,
   "id": "1057cff3-0e91-46e1-ad65-dc668cedc015",
   "metadata": {},
   "outputs": [],
   "source": [
    "# 1. Save the ID column to a new variable\n",
    "test_sample_ids = test_df['sample_id'].copy()\n"
   ]
  },
  {
   "cell_type": "markdown",
   "id": "e28baf8e-0b4f-404a-8c69-921f71d351d7",
   "metadata": {},
   "source": [
    "## Test Matrix Assembly"
   ]
  },
  {
   "cell_type": "code",
   "execution_count": 83,
   "id": "7e542b3d-1930-4dc5-a364-20580d40d9e5",
   "metadata": {},
   "outputs": [
    {
     "name": "stdout",
     "output_type": "stream",
     "text": [
      "X_simple_test_base Shape: (75000, 8)\n",
      "Total features (before TE) calculated: 3208\n",
      "Test components assembled for memory-safe prediction.\n"
     ]
    }
   ],
   "source": [
    "import joblib\n",
    "\n",
    "# --- Load Saved Feature Arrays (Ensure mmap_mode='r' for image features) ---\n",
    "final_text_features_test = np.load('ensemble_embeddings_test.npy', allow_pickle=False) \n",
    "# Note: Image features were likely dropped in the final training run. Re-include if you kept them.\n",
    "test_image_features = np.load('test_image_features.npy', mmap_mode='r') \n",
    "\n",
    "\n",
    "# 1. Create the Simple/Scalar Feature Matrix (Excluding Target Encoded Feature)\n",
    "# CRITICAL: We DO NOT include 'item_name_encoded' here.\n",
    "X_scalar_test = test_df[[\n",
    "    'log_ipq', \n",
    "    'log_base_value', \n",
    "    'image_missing' \n",
    "]].reset_index(drop=True)\n",
    "\n",
    "\n",
    "# 2. Combine Scalar and OHE Features into the Base Test Matrix\n",
    "X_simple_test_base = pd.concat([\n",
    "    X_scalar_test, \n",
    "    test_base_unit_ohe.reset_index(drop=True)\n",
    "], axis=1).astype(np.float32).values \n",
    "\n",
    "\n",
    "# 3. PREPARE X_test COMPONENTS (No Full Concatenation)\n",
    "# This list is what you will use inside the prediction loop.\n",
    "X_test_components = [\n",
    "    X_simple_test_base,           # Simple features + OHE\n",
    "    final_text_features_test,     # Text features\n",
    "    test_image_features           # Image features (Must match what was used in training!)\n",
    "]\n",
    "\n",
    "# Save the original IDs for the submission file\n",
    "test_sample_ids = test_df['sample_id'].values \n",
    "\n",
    "print(f\"X_simple_test_base Shape: {X_simple_test_base.shape}\")\n",
    "print(f\"Total features (before TE) calculated: {sum(c.shape[1] for c in X_test_components)}\")\n",
    "print(\"Test components assembled for memory-safe prediction.\")"
   ]
  },
  {
   "cell_type": "markdown",
   "id": "e4e0cef8-eb9f-469d-ac43-742ad8a15264",
   "metadata": {},
   "source": [
    "# Predictions on Test Set"
   ]
  },
  {
   "cell_type": "code",
   "execution_count": 87,
   "id": "6f7adefb-98e9-4f18-9f5b-6496c01db055",
   "metadata": {},
   "outputs": [
    {
     "name": "stdout",
     "output_type": "stream",
     "text": [
      "\n",
      "--- Starting FINAL Prediction ---\n",
      "Final X_test Shape: (75000, 3209)\n",
      "Model 1 (Best Iteration: 2000) predictions generated.\n",
      "Model 2 (Best Iteration: 2000) predictions generated.\n",
      "Model 3 (Best Iteration: 1999) predictions generated.\n",
      "Model 4 (Best Iteration: 1999) predictions generated.\n",
      "Model 5 (Best Iteration: 2000) predictions generated.\n",
      "\n",
      "FINAL ENSEMBLE SUBMISSION CREATED!** File: test_out.csv\n"
     ]
    }
   ],
   "source": [
    "\n",
    "required_rows = 75000\n",
    "test_predictions_list = []\n",
    "\n",
    "print(\"\\n--- Starting FINAL Prediction ---\")\n",
    "\n",
    "# --- 1. PREPARE X_TEST FINAL MATRIX (Leakage-Free Target Encoding) ---\n",
    "# Assuming X_test_components and test_sample_ids are defined from previous steps.\n",
    "\n",
    "# Calculate the Target Encoding feature for the entire test set\n",
    "# (using the full training set map)\n",
    "raw_names_train = train_df['item_name'] \n",
    "full_te_map = raw_names_train.map(pd.Series(y_train, index=raw_names_train.index)).groupby(raw_names_train).mean()\n",
    "test_names = test_df['item_name'] # Assuming test_df_raw is the base test df\n",
    "test_te_feature = test_names.map(full_te_map).fillna(train_log_price_mean).values.astype(np.float32).reshape(-1, 1)\n",
    "\n",
    "# FINAL X_test Matrix Assembly (Safe for LightGBM prediction)\n",
    "X_test_final = np.concatenate(X_test_components + [test_te_feature], axis=1)\n",
    "\n",
    "print(f\"Final X_test Shape: {X_test_final.shape}\")\n",
    "\n",
    "\n",
    "# --- 2. ENSEMBLE PREDICTION ---\n",
    "if len(final_models) == 5:\n",
    "    for i, fold_model in enumerate(final_models):\n",
    "        # ***MODIFICATION HERE: Use best_iteration***\n",
    "        log_preds = fold_model.predict(X_test_final, num_iteration=fold_model.best_iteration) \n",
    "        test_predictions_list.append(log_preds)\n",
    "        print(f\"Model {i+1} (Best Iteration: {fold_model.best_iteration}) predictions generated.\")\n",
    "\n",
    "    # 3. Average the log predictions (The Ensemble)\n",
    "    avg_log_preds = np.mean(np.array(test_predictions_list), axis=0)\n",
    "    \n",
    "    # 4. Inverse Transform and Non-Negative Constraint\n",
    "    test_final_predictions = np.expm1(avg_log_preds)\n",
    "    test_final_predictions[test_final_predictions < 0] = 0\n",
    "    \n",
    "    # --- 5. Save to Submission File ---\n",
    "    prediction_count = len(test_final_predictions)\n",
    "\n",
    "    if prediction_count == required_rows:\n",
    "        submission_df = pd.DataFrame({\n",
    "            # CRITICAL: Use 'sample_id' for the competition submission file\n",
    "            'sample_id': test_sample_ids,  \n",
    "            'price': test_final_predictions\n",
    "        })\n",
    "        submission_df.to_csv('test_out.csv', index=False)\n",
    "        print(\"\\nFINAL ENSEMBLE SUBMISSION CREATED!** File: test_out.csv\")\n",
    "    else:\n",
    "        print(f\"\\nCRITICAL FAILURE: Prediction count mismatch: {prediction_count}. Submission not saved.\")\n",
    "else:\n",
    "    print(f\"\\nError: Expected 1 model in final_models list, found {len(final_models)}. Cannot ensemble.\")"
   ]
  }
 ],
 "metadata": {
  "kernelspec": {
   "display_name": "Python 3 (ipykernel)",
   "language": "python",
   "name": "python3"
  },
  "language_info": {
   "codemirror_mode": {
    "name": "ipython",
    "version": 3
   },
   "file_extension": ".py",
   "mimetype": "text/x-python",
   "name": "python",
   "nbconvert_exporter": "python",
   "pygments_lexer": "ipython3",
   "version": "3.12.4"
  }
 },
 "nbformat": 4,
 "nbformat_minor": 5
}
