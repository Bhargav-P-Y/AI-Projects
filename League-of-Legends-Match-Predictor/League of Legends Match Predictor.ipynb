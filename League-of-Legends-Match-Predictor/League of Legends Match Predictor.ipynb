{
 "cells": [
  {
   "cell_type": "markdown",
   "metadata": {},
   "source": [
    "# League of Legends Match Predictor \n"
   ]
  },
  {
   "cell_type": "markdown",
   "metadata": {},
   "source": [
    "### Introduction  \n",
    "\n",
    "League of Legends, a popular multiplayer online battle arena (MOBA) game, generates extensive data from matches, providing an excellent opportunity to apply machine learning techniques to real-world scenarios. \n",
    "\n",
    "\n",
    "### Step 1: Data Loading and Preprocessing  \n",
    "\n",
    "Loading and preprocessing the dataset involves reading the data, splitting it into training and testing sets, and standardizing the features. \n",
    "I've utilized `pandas` for data manipulation, `train_test_split` from `sklearn` for data splitting, and `StandardScaler` for feature scaling.  "
   ]
  },
  {
   "cell_type": "markdown",
   "metadata": {},
   "source": [
    "### Setup\n",
    "Installing required libraries:"
   ]
  },
  {
   "cell_type": "code",
   "execution_count": 4,
   "metadata": {},
   "outputs": [
    {
     "name": "stdout",
     "output_type": "stream",
     "text": [
      "Requirement already satisfied: pandas in /opt/conda/lib/python3.12/site-packages (2.3.3)\n",
      "Requirement already satisfied: scikit-learn in /opt/conda/lib/python3.12/site-packages (1.7.2)\n",
      "Requirement already satisfied: matplotlib in /opt/conda/lib/python3.12/site-packages (3.10.7)\n",
      "Requirement already satisfied: numpy>=1.26.0 in /opt/conda/lib/python3.12/site-packages (from pandas) (2.3.4)\n",
      "Requirement already satisfied: python-dateutil>=2.8.2 in /opt/conda/lib/python3.12/site-packages (from pandas) (2.9.0.post0)\n",
      "Requirement already satisfied: pytz>=2020.1 in /opt/conda/lib/python3.12/site-packages (from pandas) (2024.2)\n",
      "Requirement already satisfied: tzdata>=2022.7 in /opt/conda/lib/python3.12/site-packages (from pandas) (2025.2)\n",
      "Requirement already satisfied: scipy>=1.8.0 in /opt/conda/lib/python3.12/site-packages (from scikit-learn) (1.16.2)\n",
      "Requirement already satisfied: joblib>=1.2.0 in /opt/conda/lib/python3.12/site-packages (from scikit-learn) (1.5.2)\n",
      "Requirement already satisfied: threadpoolctl>=3.1.0 in /opt/conda/lib/python3.12/site-packages (from scikit-learn) (3.6.0)\n",
      "Requirement already satisfied: contourpy>=1.0.1 in /opt/conda/lib/python3.12/site-packages (from matplotlib) (1.3.3)\n",
      "Requirement already satisfied: cycler>=0.10 in /opt/conda/lib/python3.12/site-packages (from matplotlib) (0.12.1)\n",
      "Requirement already satisfied: fonttools>=4.22.0 in /opt/conda/lib/python3.12/site-packages (from matplotlib) (4.60.1)\n",
      "Requirement already satisfied: kiwisolver>=1.3.1 in /opt/conda/lib/python3.12/site-packages (from matplotlib) (1.4.9)\n",
      "Requirement already satisfied: packaging>=20.0 in /opt/conda/lib/python3.12/site-packages (from matplotlib) (24.2)\n",
      "Requirement already satisfied: pillow>=8 in /opt/conda/lib/python3.12/site-packages (from matplotlib) (12.0.0)\n",
      "Requirement already satisfied: pyparsing>=3 in /opt/conda/lib/python3.12/site-packages (from matplotlib) (3.2.5)\n",
      "Requirement already satisfied: six>=1.5 in /opt/conda/lib/python3.12/site-packages (from python-dateutil>=2.8.2->pandas) (1.17.0)\n",
      "Note: you may need to restart the kernel to use updated packages.\n",
      "Looking in indexes: https://download.pytorch.org/whl/cpu\n",
      "Requirement already satisfied: torch==2.8.0+cpu in /opt/conda/lib/python3.12/site-packages (2.8.0+cpu)\n",
      "Requirement already satisfied: torchvision==0.23.0+cpu in /opt/conda/lib/python3.12/site-packages (0.23.0+cpu)\n",
      "Requirement already satisfied: torchaudio==2.8.0+cpu in /opt/conda/lib/python3.12/site-packages (2.8.0+cpu)\n",
      "Requirement already satisfied: filelock in /opt/conda/lib/python3.12/site-packages (from torch==2.8.0+cpu) (3.19.1)\n",
      "Requirement already satisfied: typing-extensions>=4.10.0 in /opt/conda/lib/python3.12/site-packages (from torch==2.8.0+cpu) (4.12.2)\n",
      "Requirement already satisfied: setuptools in /opt/conda/lib/python3.12/site-packages (from torch==2.8.0+cpu) (75.8.0)\n",
      "Requirement already satisfied: sympy>=1.13.3 in /opt/conda/lib/python3.12/site-packages (from torch==2.8.0+cpu) (1.14.0)\n",
      "Requirement already satisfied: networkx in /opt/conda/lib/python3.12/site-packages (from torch==2.8.0+cpu) (3.5)\n",
      "Requirement already satisfied: jinja2 in /opt/conda/lib/python3.12/site-packages (from torch==2.8.0+cpu) (3.1.5)\n",
      "Requirement already satisfied: fsspec in /opt/conda/lib/python3.12/site-packages (from torch==2.8.0+cpu) (2025.9.0)\n",
      "Requirement already satisfied: numpy in /opt/conda/lib/python3.12/site-packages (from torchvision==0.23.0+cpu) (2.3.4)\n",
      "Requirement already satisfied: pillow!=8.3.*,>=5.3.0 in /opt/conda/lib/python3.12/site-packages (from torchvision==0.23.0+cpu) (12.0.0)\n",
      "Requirement already satisfied: mpmath<1.4,>=1.1.0 in /opt/conda/lib/python3.12/site-packages (from sympy>=1.13.3->torch==2.8.0+cpu) (1.3.0)\n",
      "Requirement already satisfied: MarkupSafe>=2.0 in /opt/conda/lib/python3.12/site-packages (from jinja2->torch==2.8.0+cpu) (3.0.2)\n",
      "Note: you may need to restart the kernel to use updated packages.\n",
      "CPU times: user 34.2 ms, sys: 40.8 ms, total: 75 ms\n",
      "Wall time: 2.53 s\n"
     ]
    }
   ],
   "source": [
    "%%time\n",
    "%pip install pandas scikit-learn matplotlib\n",
    "%pip install torch==2.8.0+cpu torchvision==0.23.0+cpu torchaudio==2.8.0+cpu \\\n",
    "    --index-url https://download.pytorch.org/whl/cpu\n"
   ]
  },
  {
   "cell_type": "code",
   "execution_count": 5,
   "metadata": {},
   "outputs": [
    {
     "name": "stdout",
     "output_type": "stream",
     "text": [
      "win\n",
      "1    510\n",
      "0    490\n",
      "Name: count, dtype: int64\n"
     ]
    }
   ],
   "source": [
    "# Import the required libraries\n",
    "import pandas as pd\n",
    "from sklearn.model_selection import train_test_split\n",
    "from sklearn.preprocessing import StandardScaler\n",
    "import torch\n",
    "from torch.utils.data import TensorDataset\n",
    "\n",
    "# Load the datset as a dataframe\n",
    "df = pd.read_csv('league_of_legends_data_large.csv')\n",
    "\n",
    "# Get the features\n",
    "X = df.drop('win', axis = 1)\n",
    "\n",
    "# Get the target variable\n",
    "y = df['win']\n",
    "print(y.value_counts())\n",
    "\n",
    "# Split the dataset into train and test splits, 80-20\n",
    "X_train, X_test, y_train, y_test = train_test_split(X, y, test_size = 0.2, random_state = 42)\n",
    "\n",
    "# Perform preprocessing\n",
    "scaler = StandardScaler()\n",
    "X_train = scaler.fit_transform(X_train)\n",
    "X_test = scaler.transform(X_test)\n",
    "\n",
    "# Convert the pandas dataframes into Tensors\n",
    "X_train = torch.tensor(X_train, dtype = torch.float32)\n",
    "X_test = torch.tensor(X_test, dtype = torch.float32)\n",
    "y_train = torch.tensor(y_train.values, dtype = torch.float32).view(-1, 1)\n",
    "y_test = torch.tensor(y_test.values, dtype = torch.float32).view(-1, 1)\n"
   ]
  },
  {
   "cell_type": "markdown",
   "metadata": {},
   "source": [
    "### Step 2: Logistic Regression Model  \n",
    "\n",
    "1. Defined the Logistic Regression Model:</br>\n",
    "\n",
    "2. Initialized the Model, Loss Function, and Optimizer"
   ]
  },
  {
   "cell_type": "code",
   "execution_count": null,
   "metadata": {},
   "outputs": [
    {
     "name": "stdout",
     "output_type": "stream",
     "text": [
      "The number of input parameters are 8\n"
     ]
    }
   ],
   "source": [
    "# Create the logistic Regression class by subclassing nn.Module\n",
    "import torch.nn as nn\n",
    "import torch.optim as optim\n",
    "\n",
    "input_dim = X_train.shape[1]\n",
    "print('The number of input parameters are',input_dim)\n",
    "\n",
    "class LogisticRegression(nn.Module):\n",
    "    def __init__(self, input_units):\n",
    "        super(LogisticRegression, self).__init__()\n",
    "        self.linear = nn.Linear(input_units, 1)\n",
    "        \n",
    "\n",
    "    def forward(self, x):\n",
    "        # Applies the sigmoid activation function after the linear transformation\n",
    "        return torch.sigmoid(self.linear(x))\n",
    "        \n",
    "\n",
    "# Create the model\n",
    "model = LogisticRegression(input_dim)\n",
    "\n",
    "# Criterion or loss function\n",
    "criterion = nn.BCELoss()\n",
    "\n",
    "# The optimizer\n",
    "optimizer = optim.SGD(model.parameters(), lr = 0.01)\n",
    "\n"
   ]
  },
  {
   "cell_type": "markdown",
   "metadata": {},
   "source": [
    "### Step 3: Model Training  \n",
    "\n",
    "The training loop will run for a specified number of epochs. In each epoch, the model makes predictions, calculates the loss, performs backpropagation, and updates the model parameters."
   ]
  },
  {
   "cell_type": "code",
   "execution_count": 7,
   "metadata": {},
   "outputs": [
    {
     "name": "stdout",
     "output_type": "stream",
     "text": [
      "Epoch: 100, Train Loss: 0.6856, Train Acc: 0.5475, Test Loss: 0.6998, Test Acc: 0.5050\n",
      "Epoch: 200, Train Loss: 0.6856, Train Acc: 0.5450, Test Loss: 0.6997, Test Acc: 0.5050\n",
      "Epoch: 300, Train Loss: 0.6856, Train Acc: 0.5437, Test Loss: 0.6997, Test Acc: 0.5050\n",
      "Epoch: 400, Train Loss: 0.6856, Train Acc: 0.5450, Test Loss: 0.6997, Test Acc: 0.5050\n",
      "Epoch: 500, Train Loss: 0.6855, Train Acc: 0.5450, Test Loss: 0.6997, Test Acc: 0.5050\n",
      "Epoch: 600, Train Loss: 0.6856, Train Acc: 0.5450, Test Loss: 0.6997, Test Acc: 0.5050\n",
      "Epoch: 700, Train Loss: 0.6855, Train Acc: 0.5425, Test Loss: 0.6997, Test Acc: 0.5050\n",
      "Epoch: 800, Train Loss: 0.6856, Train Acc: 0.5463, Test Loss: 0.6997, Test Acc: 0.5050\n",
      "Epoch: 900, Train Loss: 0.6856, Train Acc: 0.5437, Test Loss: 0.6997, Test Acc: 0.5050\n",
      "Epoch: 1000, Train Loss: 0.6856, Train Acc: 0.5463, Test Loss: 0.6997, Test Acc: 0.5050\n"
     ]
    }
   ],
   "source": [
    "from sklearn.metrics import accuracy_score\n",
    "import torch\n",
    "from torch.utils.data import DataLoader, TensorDataset\n",
    "\n",
    "train_dataset = TensorDataset(X_train, y_train)\n",
    "test_dataset = TensorDataset(X_test, y_test)\n",
    "\n",
    "train_loader = DataLoader(train_dataset, batch_size=32, shuffle=True)\n",
    "test_loader = DataLoader(test_dataset, batch_size=32, shuffle=False)\n",
    "\n",
    "epochs = 1000\n",
    "\n",
    "for epoch in range(epochs):\n",
    "    model.train()\n",
    "    train_preds = []\n",
    "    train_labels = []\n",
    "    train_loss = 0\n",
    "\n",
    "    for X_batch, y_batch in train_loader:\n",
    "       \n",
    "        optimizer.zero_grad()\n",
    "        outputs = model(X_batch)\n",
    "        loss = criterion(outputs, y_batch)  # Ensure correct shape and dtype\n",
    "        loss.backward()\n",
    "        optimizer.step()\n",
    "\n",
    "\n",
    "        train_loss += loss.item() * X_batch.size(0)  # sum loss over batch\n",
    "\n",
    "        predicted = (outputs > 0.5).long()\n",
    "        train_preds.extend(predicted.numpy())\n",
    "        train_labels.extend(y_batch.numpy())\n",
    "\n",
    "    train_acc = accuracy_score(train_labels, train_preds)\n",
    "    avg_train_loss = train_loss / len(train_loader.dataset)\n",
    "\n",
    "    if (epoch + 1) % 100 == 0:\n",
    "        # Evaluation on test data\n",
    "        model.eval()\n",
    "        with torch.no_grad():\n",
    "            test_preds = []\n",
    "            test_labels = []\n",
    "            test_loss = 0\n",
    "\n",
    "            for X_batch, y_batch in test_loader:\n",
    "                test_outputs = model(X_batch)\n",
    "                loss = criterion(test_outputs, y_batch)\n",
    "                test_loss += loss.item() * X_batch.size(0)\n",
    "\n",
    "                predicted = (test_outputs > 0.5).long()\n",
    "                test_preds.extend(predicted.numpy())\n",
    "                test_labels.extend(y_batch.numpy())\n",
    "\n",
    "            test_acc = accuracy_score(test_labels, test_preds)\n",
    "            avg_test_loss = test_loss / len(test_loader.dataset)\n",
    "\n",
    "        print(f'Epoch: {epoch+1}, Train Loss: {avg_train_loss:.4f}, Train Acc: {train_acc:.4f}, '\n",
    "              f'Test Loss: {avg_test_loss:.4f}, Test Acc: {test_acc:.4f}')"
   ]
  },
  {
   "cell_type": "markdown",
   "metadata": {},
   "source": [
    "### Step 4: Model Optimization and Evaluation  \n",
    " \n",
    "Optimization techniques such as L2 regularization (Ridge Regression) help in preventing overfitting. The model is retrained with this optimizations, and its performance is evaluated on both training and testing sets. "
   ]
  },
  {
   "cell_type": "code",
   "execution_count": 8,
   "metadata": {},
   "outputs": [
    {
     "name": "stdout",
     "output_type": "stream",
     "text": [
      "Epoch: 100, Train Loss: 0.6856, Train Acc: 0.5475, Test Loss: 0.6992, Test Acc: 0.5050\n",
      "Epoch: 200, Train Loss: 0.6856, Train Acc: 0.5437, Test Loss: 0.6992, Test Acc: 0.5050\n",
      "Epoch: 300, Train Loss: 0.6856, Train Acc: 0.5463, Test Loss: 0.6992, Test Acc: 0.5100\n",
      "Epoch: 400, Train Loss: 0.6856, Train Acc: 0.5437, Test Loss: 0.6993, Test Acc: 0.5100\n",
      "Epoch: 500, Train Loss: 0.6856, Train Acc: 0.5413, Test Loss: 0.6992, Test Acc: 0.5050\n",
      "Epoch: 600, Train Loss: 0.6856, Train Acc: 0.5437, Test Loss: 0.6992, Test Acc: 0.5050\n",
      "Epoch: 700, Train Loss: 0.6856, Train Acc: 0.5475, Test Loss: 0.6992, Test Acc: 0.5050\n",
      "Epoch: 800, Train Loss: 0.6856, Train Acc: 0.5463, Test Loss: 0.6992, Test Acc: 0.5100\n",
      "Epoch: 900, Train Loss: 0.6856, Train Acc: 0.5425, Test Loss: 0.6992, Test Acc: 0.5050\n",
      "Epoch: 1000, Train Loss: 0.6856, Train Acc: 0.5413, Test Loss: 0.6992, Test Acc: 0.5100\n"
     ]
    }
   ],
   "source": [
    "# Modify the optimizer to include weight decay\n",
    "optimizer = optim.SGD(model.parameters(), lr = 0.01, weight_decay = 0.01)\n",
    "\n",
    "# Retrain the model again\n",
    "epochs = 1000\n",
    "\n",
    "for epoch in range(epochs):\n",
    "    model.train()\n",
    "    train_preds = []\n",
    "    train_labels = []\n",
    "    train_loss = 0\n",
    "\n",
    "    for X_batch, y_batch in train_loader:\n",
    "       \n",
    "        optimizer.zero_grad()\n",
    "        outputs = model(X_batch)\n",
    "        loss = criterion(outputs, y_batch)  # Ensure correct shape and dtype\n",
    "        loss.backward()\n",
    "        optimizer.step()\n",
    "\n",
    "\n",
    "        train_loss += loss.item() * X_batch.size(0)  # sum loss over batch\n",
    "\n",
    "        predicted = (outputs > 0.5).long()\n",
    "        train_preds.extend(predicted.numpy())\n",
    "        train_labels.extend(y_batch.numpy())\n",
    "\n",
    "    train_acc = accuracy_score(train_labels, train_preds)\n",
    "    avg_train_loss = train_loss / len(train_loader.dataset)\n",
    "\n",
    "    if (epoch + 1) % 100 == 0:\n",
    "        # Evaluation on test data\n",
    "        model.eval()\n",
    "        with torch.no_grad():\n",
    "            test_preds = []\n",
    "            test_labels = []\n",
    "            test_probs = []\n",
    "            test_loss = 0\n",
    "\n",
    "            for X_batch, y_batch in test_loader:\n",
    "                test_outputs = model(X_batch)\n",
    "                test_probs.extend(test_outputs.numpy())\n",
    "                loss = criterion(test_outputs, y_batch)\n",
    "                test_loss += loss.item() * X_batch.size(0)\n",
    "\n",
    "                predicted = (test_outputs > 0.5).long()\n",
    "                test_preds.extend(predicted.numpy())\n",
    "                test_labels.extend(y_batch.numpy())\n",
    "\n",
    "            test_acc = accuracy_score(test_labels, test_preds)\n",
    "            avg_test_loss = test_loss / len(test_loader.dataset)\n",
    "\n",
    "        print(f'Epoch: {epoch+1}, Train Loss: {avg_train_loss:.4f}, Train Acc: {train_acc:.4f}, '\n",
    "              f'Test Loss: {avg_test_loss:.4f}, Test Acc: {test_acc:.4f}')"
   ]
  },
  {
   "cell_type": "markdown",
   "metadata": {},
   "source": [
    "### Step 5: Visualization and Interpretation  \n",
    "\n",
    "Visualization tools like confusion matrices and ROC curves provide insights into the model's performance. The confusion matrix helps in understanding the classification accuracy, while the ROC curve illustrates the trade-off between sensitivity and specificity."
   ]
  },
  {
   "cell_type": "code",
   "execution_count": null,
   "metadata": {},
   "outputs": [
    {
     "name": "stdout",
     "output_type": "stream",
     "text": [
      "Classification Report:\n",
      "               precision    recall  f1-score   support\n",
      "\n",
      "         0.0       0.48      0.42      0.45        95\n",
      "         1.0       0.53      0.59      0.56       105\n",
      "\n",
      "    accuracy                           0.51       200\n",
      "   macro avg       0.51      0.51      0.50       200\n",
      "weighted avg       0.51      0.51      0.51       200\n",
      "\n",
      "Confusion Matrix:\n",
      " [[40 55]\n",
      " [43 62]]\n"
     ]
    },
    {
     "data": {
      "image/png": "[encoded data removed]",
      "text/plain": [
       "<Figure size 640x480 with 1 Axes>"
      ]
     },
     "metadata": {},
     "output_type": "display_data"
    }
   ],
   "source": [
    "\n",
    "import matplotlib.pyplot as plt\n",
    "from sklearn.metrics import confusion_matrix, classification_report, roc_curve, auc\n",
    "\n",
    "# test_labels and test_preds are lists or arrays of true and predicted labels\n",
    "print(\"Classification Report:\\n\", classification_report(test_labels, test_preds))\n",
    "print(\"Confusion Matrix:\\n\", confusion_matrix(test_labels, test_preds))\n",
    "\n",
    "# For ROC curve, we need predicted probabilities (not thresholded labels)\n",
    "# test_probs contains model output probabilities for the positive class\n",
    "fpr, tpr, thresholds = roc_curve(test_labels, test_probs)\n",
    "roc_auc = auc(fpr, tpr)\n",
    "\n",
    "plt.figure()\n",
    "plt.plot(fpr, tpr, color='darkorange', lw=2, label=f'ROC curve (area = {roc_auc:.2f})')\n",
    "plt.plot([0, 1], [0, 1], color='navy', lw=2, linestyle='--')\n",
    "plt.xlim([0.0, 1.0])\n",
    "plt.ylim([0.0, 1.05])\n",
    "plt.xlabel('False Positive Rate')\n",
    "plt.ylabel('True Positive Rate')\n",
    "plt.title('Receiver Operating Characteristic (ROC) Curve')\n",
    "plt.legend(loc=\"lower right\")\n",
    "plt.show()\n"
   ]
  },
  {
   "cell_type": "markdown",
   "metadata": {},
   "source": [
    "### Step 6: Model Saving and Loading  \n",
    "Saving the model. Evaluating the loaded model ensures that it retains its performance, making it practical for deployment in real-world applications.  "
   ]
  },
  {
   "cell_type": "code",
   "execution_count": null,
   "metadata": {},
   "outputs": [
    {
     "name": "stdout",
     "output_type": "stream",
     "text": [
      "Accuracy on test set is 0.51\n"
     ]
    }
   ],
   "source": [
    "# Save the model's state dictionary. More flexible & efficient \n",
    "# compared to saving the entire model object\n",
    "torch.save(model.state_dict(), 'llm_model.pth')\n",
    "\n",
    "# Load the model\n",
    "model = LogisticRegression(input_dim)\n",
    "model.load_state_dict(torch.load('llm_model.pth'))\n",
    "\n",
    "\n",
    "# Ensure the loaded model is in evaluation mode\n",
    "model.eval()\n",
    "\n",
    "\n",
    "# Evaluate the loaded model\n",
    "with torch.no_grad():\n",
    "    test_preds = []\n",
    "    test_labels = []\n",
    "    test_probs = []\n",
    "    test_loss = 0\n",
    "\n",
    "    for X_batch, y_batch in test_loader:\n",
    "        test_outputs = model(X_batch)\n",
    "        test_probs.extend(test_outputs.numpy())\n",
    "        loss = criterion(test_outputs, y_batch)\n",
    "        test_loss += loss.item() * X_batch.size(0)\n",
    "\n",
    "        predicted = (test_outputs > 0.5).long()\n",
    "        test_preds.extend(predicted.numpy())\n",
    "        test_labels.extend(y_batch.numpy())\n",
    "\n",
    "    test_acc = accuracy_score(test_labels, test_preds)\n",
    "    avg_test_loss = test_loss / len(test_loader.dataset)\n",
    "    print(\"Accuracy on test set is\", test_acc)\n"
   ]
  },
  {
   "cell_type": "markdown",
   "metadata": {},
   "source": [
    "### Step 7: Hyperparameter Tuning  \n",
    "  \n",
    "Perform hyperparameter tuning to find the best learning rate. This fine-tuning is crucial for enhancing model performance. "
   ]
  },
  {
   "cell_type": "code",
   "execution_count": null,
   "metadata": {},
   "outputs": [
    {
     "name": "stdout",
     "output_type": "stream",
     "text": [
      "LR 0.01 Accuracy 0.51\n",
      "LR 0.05 Accuracy 0.505\n",
      "LR 0.1 Accuracy 0.51\n",
      "The optimal learning rate is 0.01\n"
     ]
    }
   ],
   "source": [
    "## Different learning rates\n",
    "lrs = [0.01, 0.05, 0.1]\n",
    "best_lr = 0\n",
    "acc = 0\n",
    "for lr in lrs:\n",
    "    model = LogisticRegression(input_dim)\n",
    "    optimizer = optim.SGD(model.parameters(), lr = lr, weight_decay = 0.01)\n",
    "\n",
    "    # Train the model\n",
    "    epochs = 100\n",
    "\n",
    "    model.train()\n",
    "    for epoch in range(epochs):\n",
    "        for X_batch, y_batch in train_loader:\n",
    "            optimizer.zero_grad()\n",
    "            outputs = model(X_batch)\n",
    "            loss = criterion(outputs, y_batch)\n",
    "            loss.backward()\n",
    "            optimizer.step()\n",
    "\n",
    "    # Evaluate the model on the test set\n",
    "    test_labels = []\n",
    "    model.eval()\n",
    "    with torch.no_grad():\n",
    "        for X_batch, y_batch in test_loader:\n",
    "            test_outputs = model(X_batch)\n",
    "            loss = criterion(test_outputs, y_batch)\n",
    "            labels = (test_outputs > 0.5).long()\n",
    "            test_labels.extend(labels.numpy())\n",
    "\n",
    "    acc_score = accuracy_score(y_test, test_labels)\n",
    "    if acc_score > acc:\n",
    "        acc = acc_score\n",
    "        best_lr = lr\n",
    "    print('LR', lr, 'Accuracy', acc_score)\n",
    "            \n",
    "            \n",
    "print('The optimal learning rate is', best_lr)"
   ]
  },
  {
   "cell_type": "markdown",
   "metadata": {},
   "source": [
    "### Step 8: Feature Importance  \n",
    "\n",
    " The weights of the logistic regression model represent the importance of each feature in making predictions. This helps understand the impact of each feature on the prediction. "
   ]
  },
  {
   "cell_type": "code",
   "execution_count": null,
   "metadata": {},
   "outputs": [
    {
     "name": "stdout",
     "output_type": "stream",
     "text": [
      "        Feature  Importance\n",
      "3   gold_earned    0.169986\n",
      "0         kills    0.122699\n",
      "5  wards_placed    0.120335\n",
      "4            cs   -0.008223\n",
      "2       assists   -0.010555\n",
      "1        deaths   -0.011218\n",
      "7  damage_dealt   -0.020597\n",
      "6  wards_killed   -0.031749\n"
     ]
    },
    {
     "data": {
      "image/png": "[encoded data removed]",
      "text/plain": [
       "<Figure size 1000x600 with 1 Axes>"
      ]
     },
     "metadata": {},
     "output_type": "display_data"
    }
   ],
   "source": [
    "# Extract the weights of the linear layer\n",
    "weights = model.linear.weight.data.numpy().flatten()\n",
    "features = X.columns\n",
    "\n",
    "# Create a DataFrame for feature importance\n",
    "feature_importance = pd.DataFrame({'Feature':features, 'Importance':weights})\n",
    "feature_importance = feature_importance.sort_values(by = 'Importance', ascending=False)\n",
    "print(feature_importance)\n",
    "\n",
    "#Plot feature importance \n",
    "plt.figure(figsize=(10, 6))\n",
    "plt.bar(feature_importance['Feature'], feature_importance['Importance'])\n",
    "plt.xlabel('Features')\n",
    "plt.ylabel('Importance')\n",
    "plt.title('Feature Importance')\n",
    "plt.xticks(rotation=45)\n",
    "plt.show()\n"
   ]
  },
  {
   "cell_type": "markdown",
   "metadata": {},
   "source": [
    "#### Conclusion:  \n",
    "This project uses the complete workflow of developing a machine learning model for binary classification tasks using PyTorch."
   ]
  }
 ],
 "metadata": {
  "kernelspec": {
   "display_name": "Python 3 (ipykernel)",
   "language": "python",
   "name": "python3"
  },
  "language_info": {
   "codemirror_mode": {
    "name": "ipython",
    "version": 3
   },
   "file_extension": ".py",
   "mimetype": "text/x-python",
   "name": "python",
   "nbconvert_exporter": "python",
   "pygments_lexer": "ipython3",
   "version": "3.12.8"
  },
  "prev_pub_hash": "6860f5778f5bdf6bea1644ccc0286e8f0ee59372cda99a2f50a041e51816d450"
 },
 "nbformat": 4,
 "nbformat_minor": 4
}
